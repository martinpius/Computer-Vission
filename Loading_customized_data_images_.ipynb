{
  "nbformat": 4,
  "nbformat_minor": 0,
  "metadata": {
    "accelerator": "GPU",
    "colab": {
      "name": "Loading customized data/images .ipynb",
      "provenance": [],
      "authorship_tag": "ABX9TyM2nccDMN5eZ7cL660ua+zp",
      "include_colab_link": true
    },
    "kernelspec": {
      "display_name": "Python 3",
      "name": "python3"
    },
    "language_info": {
      "name": "python"
    }
  },
  "cells": [
    {
      "cell_type": "markdown",
      "metadata": {
        "id": "view-in-github",
        "colab_type": "text"
      },
      "source": [
        "<a href=\"https://colab.research.google.com/github/martinpius/Computer-Vission/blob/main/Loading_customized_data_images_.ipynb\" target=\"_parent\"><img src=\"https://colab.research.google.com/assets/colab-badge.svg\" alt=\"Open In Colab\"/></a>"
      ]
    },
    {
      "cell_type": "code",
      "metadata": {
        "colab": {
          "base_uri": "https://localhost:8080/"
        },
        "id": "-oKgQajzf1Mu",
        "outputId": "813615e9-91ad-4c0b-df89-77fee09cf090"
      },
      "source": [
        "from google.colab import drive\n",
        "drive.mount(\"/content/drive\", force_remount = True)\n",
        "try:\n",
        "  COLAB = True\n",
        "  import tensorflow as tf\n",
        "  print(f\"You are on CoLaB with tensorflow version: {tf.__version__}\")\n",
        "except Exception as e:\n",
        "  print(f\"{type(e)}: {e}\\n>>>please load your drive....\")\n",
        "  COLAB = False\n",
        "def time_fmt(t:float = 123.1093)->float:\n",
        "  h = int(t / (60 * 60))\n",
        "  m = int(t % (60 * 60) / 60)\n",
        "  s = int(t % 60)\n",
        "  return f\"{h}: {m:>02}:{s:>05.2f}\"\n",
        "print(f\">>>testing the function:\\tplease wait...\\n>>>time elapse:\\t{time_fmt()}\")"
      ],
      "execution_count": null,
      "outputs": [
        {
          "output_type": "stream",
          "text": [
            "Mounted at /content/drive\n",
            "You are on CoLaB with tensorflow version: 2.4.1\n",
            ">>>testing the function:\tplease wait...\n",
            ">>>time elapse:\t0: 02:03.00\n"
          ],
          "name": "stdout"
        }
      ]
    },
    {
      "cell_type": "code",
      "metadata": {
        "id": "VpfmL4Ibija0"
      },
      "source": [
        "#In this notebook we will discuss several ways of loading customized datasets/images "
      ],
      "execution_count": null,
      "outputs": []
    },
    {
      "cell_type": "code",
      "metadata": {
        "id": "v-EMJ28ai5o4"
      },
      "source": [
        "import tensorflow as tf\n",
        "import numpy as np\n",
        "import time, os, sys \n",
        "import matplotlib.pyplot as plt\n",
        "from tensorflow.keras.preprocessing.image import ImageDataGenerator"
      ],
      "execution_count": null,
      "outputs": []
    },
    {
      "cell_type": "code",
      "metadata": {
        "id": "LQjH3ccLjhGm"
      },
      "source": [
        "#loading data from the directory using keras preprocessing:"
      ],
      "execution_count": null,
      "outputs": []
    },
    {
      "cell_type": "code",
      "metadata": {
        "colab": {
          "base_uri": "https://localhost:8080/"
        },
        "id": "ob3tQ9bsjouE",
        "outputId": "08d2302e-c8f7-4c6c-f85c-2c0e3a0e77eb"
      },
      "source": [
        "train_data = tf.keras.preprocessing.image_dataset_from_directory(\n",
        "    '/content/drive/MyDrive/transfer',\n",
        "    labels = 'inferred',\n",
        "    label_mode = 'int',\n",
        "    class_names = ['cd','disk35','disk525','tape'],\n",
        "    shuffle = True,\n",
        "    seed = 119,\n",
        "    validation_split = 0.1, subset = 'training'\n",
        ")\n",
        "\n",
        "validation_data = tf.keras.preprocessing.image_dataset_from_directory(\n",
        "    '/content/drive/MyDrive/transfer',\n",
        "    labels = 'inferred',\n",
        "    label_mode = 'int',\n",
        "    class_names = ['cd','disk35','disk525','tape'],\n",
        "    shuffle = True,\n",
        "    seed = 119,\n",
        "    validation_split = 0.1, subset = 'validation'\n",
        ")"
      ],
      "execution_count": null,
      "outputs": [
        {
          "output_type": "stream",
          "text": [
            "Found 52 files belonging to 4 classes.\n",
            "Using 47 files for training.\n",
            "Found 52 files belonging to 4 classes.\n",
            "Using 5 files for validation.\n"
          ],
          "name": "stdout"
        }
      ]
    },
    {
      "cell_type": "code",
      "metadata": {
        "id": "LDWBIyjUlawU"
      },
      "source": [
        "#Examine the shape of the data\n",
        "x_batch, y_batch = next(iter(train_data))"
      ],
      "execution_count": null,
      "outputs": []
    },
    {
      "cell_type": "code",
      "metadata": {
        "colab": {
          "base_uri": "https://localhost:8080/"
        },
        "id": "a4Egwdoel1mc",
        "outputId": "968b2f6c-62cd-489b-af94-8fd6011a7ad0"
      },
      "source": [
        "x_batch.shape"
      ],
      "execution_count": null,
      "outputs": [
        {
          "output_type": "execute_result",
          "data": {
            "text/plain": [
              "TensorShape([32, 256, 256, 3])"
            ]
          },
          "metadata": {
            "tags": []
          },
          "execution_count": 7
        }
      ]
    },
    {
      "cell_type": "code",
      "metadata": {
        "id": "35yTLLI-nOXt"
      },
      "source": [
        "#we can do some data augumentation:"
      ],
      "execution_count": null,
      "outputs": []
    },
    {
      "cell_type": "code",
      "metadata": {
        "id": "jtZ8KqT-nXyw"
      },
      "source": [
        "def _img_augument(image, label):\n",
        "  image = tf.image.random_brightness(image, max_delta = 0.2)\n",
        "  image = tf.image.flip_left_right(image)\n",
        "  image = tf.image.flip_up_down(image)\n",
        "  return image, label"
      ],
      "execution_count": null,
      "outputs": []
    },
    {
      "cell_type": "code",
      "metadata": {
        "id": "iHB83wbmosvH"
      },
      "source": [
        "AUTOTUNE = tf.data.experimental.AUTOTUNE\n",
        "train_data = train_data.map(_img_augument, num_parallel_calls= AUTOTUNE)"
      ],
      "execution_count": null,
      "outputs": []
    },
    {
      "cell_type": "code",
      "metadata": {
        "colab": {
          "base_uri": "https://localhost:8080/"
        },
        "id": "-9je_BKOpCn4",
        "outputId": "03d38f12-9163-4175-c883-edd397584c46"
      },
      "source": [
        "inputs = tf.keras.Input(shape = (256,256,3), name = 'inputs_shape')\n",
        "x = tf.keras.layers.Conv2D(64,3,padding = 'same', activation = 'relu')(inputs)\n",
        "x = tf.keras.layers.Conv2D(128, 3, padding = 'same', activation = 'relu')(x)\n",
        "x = tf.keras.layers.BatchNormalization()(x)\n",
        "x = tf.keras.layers.MaxPooling2D()(x)\n",
        "x = tf.keras.layers.Conv2D(256, 3, padding = 'same', activation  = 'relu')(x)\n",
        "x = tf.keras.layers.Conv2D(512, 3, activation = 'relu', padding = 'same')(x)\n",
        "x = tf.keras.layers.BatchNormalization()(x)\n",
        "x = tf.keras.layers.GlobalAveragePooling2D()(x)\n",
        "x = tf.keras.layers.Dense(units = 128, activation = 'relu')(x)\n",
        "x = tf.keras.layers.Dense(units = 64, activation=\"relu\")(x)\n",
        "outputs = tf.keras.layers.Dense(units = 4, activation = 'softmax')(x)\n",
        "model = tf.keras.Model(inputs = inputs, outputs = outputs)\n",
        "model.summary()"
      ],
      "execution_count": null,
      "outputs": [
        {
          "output_type": "stream",
          "text": [
            "Model: \"model\"\n",
            "_________________________________________________________________\n",
            "Layer (type)                 Output Shape              Param #   \n",
            "=================================================================\n",
            "inputs_shape (InputLayer)    [(None, 256, 256, 3)]     0         \n",
            "_________________________________________________________________\n",
            "conv2d (Conv2D)              (None, 256, 256, 64)      1792      \n",
            "_________________________________________________________________\n",
            "conv2d_1 (Conv2D)            (None, 256, 256, 128)     73856     \n",
            "_________________________________________________________________\n",
            "batch_normalization (BatchNo (None, 256, 256, 128)     512       \n",
            "_________________________________________________________________\n",
            "max_pooling2d (MaxPooling2D) (None, 128, 128, 128)     0         \n",
            "_________________________________________________________________\n",
            "conv2d_2 (Conv2D)            (None, 128, 128, 256)     295168    \n",
            "_________________________________________________________________\n",
            "conv2d_3 (Conv2D)            (None, 128, 128, 512)     1180160   \n",
            "_________________________________________________________________\n",
            "batch_normalization_1 (Batch (None, 128, 128, 512)     2048      \n",
            "_________________________________________________________________\n",
            "global_average_pooling2d (Gl (None, 512)               0         \n",
            "_________________________________________________________________\n",
            "dense (Dense)                (None, 128)               65664     \n",
            "_________________________________________________________________\n",
            "dense_1 (Dense)              (None, 64)                8256      \n",
            "_________________________________________________________________\n",
            "dense_2 (Dense)              (None, 4)                 260       \n",
            "=================================================================\n",
            "Total params: 1,627,716\n",
            "Trainable params: 1,626,436\n",
            "Non-trainable params: 1,280\n",
            "_________________________________________________________________\n"
          ],
          "name": "stdout"
        }
      ]
    },
    {
      "cell_type": "code",
      "metadata": {
        "id": "xgju_qY43843"
      },
      "source": [
        "model.compile(loss = 'sparse_categorical_crossentropy',\n",
        "              optimizer = 'Adam',\n",
        "              metrics = ['accuracy'])"
      ],
      "execution_count": null,
      "outputs": []
    },
    {
      "cell_type": "code",
      "metadata": {
        "colab": {
          "background_save": true,
          "base_uri": "https://localhost:8080/"
        },
        "id": "IZTamQWX4OeF",
        "outputId": "3ad3da04-e35e-4411-8c55-727b30f51ba3"
      },
      "source": [
        "model.fit(train_data, validation_data = validation_data, epochs = 3, verbose = 2)"
      ],
      "execution_count": null,
      "outputs": [
        {
          "output_type": "stream",
          "text": [
            "Epoch 1/3\n",
            "2/2 - 176s - loss: 1.3382 - accuracy: 0.4255 - val_loss: 23.9672 - val_accuracy: 0.0000e+00\n",
            "Epoch 2/3\n",
            "2/2 - 167s - loss: 1.0569 - accuracy: 0.5319 - val_loss: 32.1468 - val_accuracy: 0.0000e+00\n",
            "Epoch 3/3\n",
            "2/2 - 166s - loss: 0.8778 - accuracy: 0.5957 - val_loss: 54.5133 - val_accuracy: 0.0000e+00\n"
          ],
          "name": "stdout"
        },
        {
          "output_type": "execute_result",
          "data": {
            "text/plain": [
              "<tensorflow.python.keras.callbacks.History at 0x7fd9cccc9c90>"
            ]
          },
          "metadata": {
            "tags": []
          },
          "execution_count": 0
        }
      ]
    },
    {
      "cell_type": "code",
      "metadata": {
        "id": "Gouu4BJC4jXF"
      },
      "source": [
        "#We can also load data from the directory using imagedata generator:"
      ],
      "execution_count": 14,
      "outputs": []
    },
    {
      "cell_type": "code",
      "metadata": {
        "id": "lxdnQf6V7zDY"
      },
      "source": [
        "datagen = ImageDataGenerator(\n",
        "    rescale = 1.0/255.0,\n",
        "    rotation_range = 5,\n",
        "    zoom_range = (0.95, 0.95),\n",
        "    horizontal_flip = False,\n",
        "    vertical_flip = False,\n",
        "    dtype = tf.float32,\n",
        "    data_format = 'channels_last',\n",
        "    validation_split = 0.0    \n",
        ")\n"
      ],
      "execution_count": 16,
      "outputs": []
    },
    {
      "cell_type": "code",
      "metadata": {
        "colab": {
          "base_uri": "https://localhost:8080/"
        },
        "id": "lj6vzPt8_Iqq",
        "outputId": "a192f934-f526-4cf9-c33c-bc8735f7de3e"
      },
      "source": [
        "train_dfm = datagen.flow_from_directory(\n",
        "   directory = \"/content/drive/MyDrive/transfer\",\n",
        "   target_size = (256,256),\n",
        "   color_mode = 'grayscale',\n",
        "   class_mode = 'sparse',\n",
        "   shuffle = True,\n",
        "   subset = 'training'\n",
        "\n",
        "    \n",
        ")"
      ],
      "execution_count": 17,
      "outputs": [
        {
          "output_type": "stream",
          "text": [
            "Found 52 images belonging to 4 classes.\n"
          ],
          "name": "stdout"
        }
      ]
    },
    {
      "cell_type": "code",
      "metadata": {
        "id": "hMfut9q1FrXs"
      },
      "source": [
        ""
      ],
      "execution_count": null,
      "outputs": []
    }
  ]
}