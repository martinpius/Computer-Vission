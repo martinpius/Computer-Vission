{
  "nbformat": 4,
  "nbformat_minor": 0,
  "metadata": {
    "colab": {
      "name": "Transfer learning in Keras.ipynb",
      "provenance": [],
      "authorship_tag": "ABX9TyO0j55WpV3f/NNDJ4jFZoKx",
      "include_colab_link": true
    },
    "kernelspec": {
      "name": "python3",
      "display_name": "Python 3"
    },
    "language_info": {
      "name": "python"
    },
    "accelerator": "GPU"
  },
  "cells": [
    {
      "cell_type": "markdown",
      "metadata": {
        "id": "view-in-github",
        "colab_type": "text"
      },
      "source": [
        "<a href=\"https://colab.research.google.com/github/martinpius/Computer-Vission/blob/main/Transfer_learning_in_Keras.ipynb\" target=\"_parent\"><img src=\"https://colab.research.google.com/assets/colab-badge.svg\" alt=\"Open In Colab\"/></a>"
      ]
    },
    {
      "cell_type": "code",
      "metadata": {
        "colab": {
          "base_uri": "https://localhost:8080/"
        },
        "id": "6wNTkFYWywmb",
        "outputId": "7afda886-b5d4-4ea3-f43a-e488f125ed5c"
      },
      "source": [
        "from google.colab import drive\n",
        "drive.mount(\"/content/drive\", force_remount = True)\n",
        "try:\n",
        "  COLAB = True\n",
        "  import tensorflow as tf\n",
        "  print(f\"You are on CoLaB with tensorflow version: {tf.__version__}\")\n",
        "except Exception as e:\n",
        "  print(f\"{type(e)}: {e}\\n>>>please correct {type(e)}\")\n",
        "  COLAB = False\n",
        "def time_fmt(t:float = 123.871)->float:\n",
        "  h = int(t / (60 * 60))\n",
        "  m = int(t % (60 * 60) / 60)\n",
        "  s = int(t % 60)\n",
        "  return f\"{h}: {m:>02}: {s:>05.2f}\"\n",
        "print(f\">>>time testing, please wait...\\n>>>time elapse: {time_fmt()}\")\n"
      ],
      "execution_count": 85,
      "outputs": [
        {
          "output_type": "stream",
          "text": [
            "Mounted at /content/drive\n",
            "You are on CoLaB with tensorflow version: 2.4.1\n",
            ">>>time testing, please wait...\n",
            ">>>time elapse: 0: 02: 03.00\n"
          ],
          "name": "stdout"
        }
      ]
    },
    {
      "cell_type": "code",
      "metadata": {
        "id": "QCjVSM_v0aF2"
      },
      "source": [
        "#In this notebook we discuss transfer learning technique with application of cifar10 dataset:\n"
      ],
      "execution_count": 86,
      "outputs": []
    },
    {
      "cell_type": "code",
      "metadata": {
        "id": "-2ckMAMj0uJn"
      },
      "source": [
        "import tensorflow as tf\n",
        "from tensorflow.keras.preprocessing.image import ImageDataGenerator\n",
        "import numpy as np\n",
        "import time, sys\n",
        "from IPython import embed\n",
        "from skimage.transform import resize\n"
      ],
      "execution_count": 87,
      "outputs": []
    },
    {
      "cell_type": "code",
      "metadata": {
        "id": "pPUPx5gb3H1g"
      },
      "source": [
        "#Reshaping the images into required resnet-architecture (244,244,3)\n",
        "def img_reshape(image):\n",
        "  image = image.astype('float32')\n",
        "  out_img = tf.keras.applications.resnet50.preprocess_input(image)\n",
        "  return out_img\n"
      ],
      "execution_count": 88,
      "outputs": []
    },
    {
      "cell_type": "code",
      "metadata": {
        "id": "uU0IfMY_4yFK"
      },
      "source": [
        "#Loading the data from keras:\n",
        "(x_train, y_train), (x_test, y_test) = tf.keras.datasets.cifar10.load_data()"
      ],
      "execution_count": 89,
      "outputs": []
    },
    {
      "cell_type": "code",
      "metadata": {
        "colab": {
          "base_uri": "https://localhost:8080/"
        },
        "id": "-exv0bKn5CRx",
        "outputId": "f5728e49-b700-4fcb-d6b9-0d7f53bd1416"
      },
      "source": [
        "print(f\"x_train_shape: {x_train.shape}, y_train_shape: {y_train.shape}\\nx_test_shape: {x_test.shape}, y_test_shape: {y_test.shape}\")\n",
        "\n"
      ],
      "execution_count": 90,
      "outputs": [
        {
          "output_type": "stream",
          "text": [
            "x_train_shape: (50000, 32, 32, 3), y_train_shape: (50000, 1)\n",
            "x_test_shape: (10000, 32, 32, 3), y_test_shape: (10000, 1)\n"
          ],
          "name": "stdout"
        }
      ]
    },
    {
      "cell_type": "code",
      "metadata": {
        "id": "CS--pyYV59zD"
      },
      "source": [
        "#Applying preprocessing function \n",
        "x_train, x_test = img_reshape(x_train), img_reshape(x_test)"
      ],
      "execution_count": 91,
      "outputs": []
    },
    {
      "cell_type": "code",
      "metadata": {
        "id": "Wu5E7kqv8XRY"
      },
      "source": [
        "y_train, y_test = tf.keras.utils.to_categorical(y_train, 10), tf.keras.utils.to_categorical(y_test, 10)"
      ],
      "execution_count": 92,
      "outputs": []
    },
    {
      "cell_type": "code",
      "metadata": {
        "colab": {
          "base_uri": "https://localhost:8080/"
        },
        "id": "pdDPc1Z76uv-",
        "outputId": "22642df2-fdb5-430e-ef60-ec348eb4b85e"
      },
      "source": [
        "print(f\"x_train_shape: {x_train.shape}, y_train_shape: {y_train.shape}\\nx_test_shape: {x_test.shape}, y_test_shape: {y_test.shape}\")"
      ],
      "execution_count": 93,
      "outputs": [
        {
          "output_type": "stream",
          "text": [
            "x_train_shape: (50000, 32, 32, 3), y_train_shape: (50000, 10)\n",
            "x_test_shape: (10000, 32, 32, 3), y_test_shape: (10000, 10)\n"
          ],
          "name": "stdout"
        }
      ]
    },
    {
      "cell_type": "code",
      "metadata": {
        "id": "CnFXlhzISM_Y"
      },
      "source": [
        "#Get the pre-trained weights from renet50 (inputs image is 224 by 224)\n",
        "def _extractor_(inputs):\n",
        "  ft_ext = tf.keras.applications.resnet.ResNet50(include_top = False, weights = 'imagenet')(inputs)\n",
        "  return ft_ext"
      ],
      "execution_count": 94,
      "outputs": []
    },
    {
      "cell_type": "code",
      "metadata": {
        "colab": {
          "base_uri": "https://localhost:8080/",
          "height": 646
        },
        "id": "QJR7y1alTPgV",
        "outputId": "89453062-1a2e-410b-d2d3-85d55cf699db"
      },
      "source": [
        "#Modify the model (define classifier to suit your need: here with 10 classes)\n",
        "def classfier(inputs):\n",
        "  '''we modify resnet50 by excluding and add few layers with the last=classifier'''\n",
        "  x = tf.keras.layers.GlobalAveragePooling2D()(inputs)\n",
        "  x = tf.keras.layers.Flatten()(x)\n",
        "  x = tf.keras.layers.Dense(units = 1024, activation = 'relu')(x)\n",
        "  x = tf.keras.layers.Dense(units = 512, activation = 'relu')(x)\n",
        "  x = tf.keras.layers.Dense(units = 10, activation = 'softmax')(x)\n",
        "  return x\n",
        "\n",
        "#We need to reshape the images from (32,32,3) to (224,224,3). This can be achieved \n",
        "#through various procidures but the easy shortcut is to upsampling(Deconvolution):\n",
        "def trf_model(inputs):\n",
        "  x = tf.keras.layers.UpSampling2D(size = (7,7))(inputs)\n",
        "  resnet_ftx = _extractor_(x)\n",
        "  trf_out = classfier(resnet_ftx)\n",
        "  return trf_out\n",
        "\n",
        "#We now define our model and compile it ready for training:\n",
        "def final_model():\n",
        "  inputs = tf.keras.layers.Input(shape = (32,32,3))\n",
        "  outputs = trf_model(inputs)\n",
        "  model = tf.keras.models.Model(inputs = inputs, outputs = outputs)\n",
        "  model.compile(loss = 'categorical_crossentropy',\n",
        "                optimizer = 'Adam', metrics = ['accuracy'])\n",
        "  return model\n",
        "\n",
        "#Display the summary of our model\n",
        "model = final_model()\n",
        "display(model.summary())\n",
        "\n",
        "#training our model:\n",
        "tic = time.time()\n",
        "model.fit(x_train, y_train, validation_data = (x_test, y_test), epochs = 5, batch_size = 64, verbose = 2)\n",
        "toc = time.time()\n",
        "print(f\"\\n>>>time elapse: {time_fmt(toc - tic)}\")"
      ],
      "execution_count": 95,
      "outputs": [
        {
          "output_type": "stream",
          "text": [
            "Model: \"model_2\"\n",
            "_________________________________________________________________\n",
            "Layer (type)                 Output Shape              Param #   \n",
            "=================================================================\n",
            "input_10 (InputLayer)        [(None, 32, 32, 3)]       0         \n",
            "_________________________________________________________________\n",
            "up_sampling2d_3 (UpSampling2 (None, 224, 224, 3)       0         \n",
            "_________________________________________________________________\n",
            "resnet50 (Functional)        (None, None, None, 2048)  23587712  \n",
            "_________________________________________________________________\n",
            "global_average_pooling2d_7 ( (None, 2048)              0         \n",
            "_________________________________________________________________\n",
            "flatten_2 (Flatten)          (None, 2048)              0         \n",
            "_________________________________________________________________\n",
            "dense_24 (Dense)             (None, 1024)              2098176   \n",
            "_________________________________________________________________\n",
            "dense_25 (Dense)             (None, 512)               524800    \n",
            "_________________________________________________________________\n",
            "dense_26 (Dense)             (None, 10)                5130      \n",
            "=================================================================\n",
            "Total params: 26,215,818\n",
            "Trainable params: 26,162,698\n",
            "Non-trainable params: 53,120\n",
            "_________________________________________________________________\n"
          ],
          "name": "stdout"
        },
        {
          "output_type": "display_data",
          "data": {
            "text/plain": [
              "None"
            ]
          },
          "metadata": {
            "tags": []
          }
        },
        {
          "output_type": "stream",
          "text": [
            "Epoch 1/5\n",
            "782/782 - 267s - loss: 0.7623 - accuracy: 0.7425 - val_loss: 0.8127 - val_accuracy: 0.7351\n",
            "Epoch 2/5\n",
            "782/782 - 259s - loss: 0.4277 - accuracy: 0.8547 - val_loss: 1.4179 - val_accuracy: 0.6467\n",
            "Epoch 3/5\n",
            "782/782 - 259s - loss: 0.3086 - accuracy: 0.8951 - val_loss: 0.4835 - val_accuracy: 0.8476\n",
            "Epoch 4/5\n",
            "782/782 - 259s - loss: 0.2317 - accuracy: 0.9207 - val_loss: 0.4101 - val_accuracy: 0.8612\n",
            "Epoch 5/5\n",
            "782/782 - 259s - loss: 0.1815 - accuracy: 0.9379 - val_loss: 0.5413 - val_accuracy: 0.8320\n",
            "\n",
            ">>>time elapse: 0: 21: 44.00\n"
          ],
          "name": "stdout"
        }
      ]
    },
    {
      "cell_type": "code",
      "metadata": {
        "id": "-KHQpT9TS43X"
      },
      "source": [
        ""
      ],
      "execution_count": 95,
      "outputs": []
    },
    {
      "cell_type": "code",
      "metadata": {
        "id": "z0Lp2wKMFWt9"
      },
      "source": [
        ""
      ],
      "execution_count": 95,
      "outputs": []
    }
  ]
}