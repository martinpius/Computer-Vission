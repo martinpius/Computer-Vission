{
  "nbformat": 4,
  "nbformat_minor": 0,
  "metadata": {
    "colab": {
      "name": "MERGING IMAGE FILES FROM DIFFERENT FOLDERS IN GOOLE DRIVE ",
      "provenance": [],
      "authorship_tag": "ABX9TyPHBuqpjYpM8ALSV9vWMoit",
      "include_colab_link": true
    },
    "kernelspec": {
      "name": "python3",
      "display_name": "Python 3"
    },
    "language_info": {
      "name": "python"
    },
    "accelerator": "GPU"
  },
  "cells": [
    {
      "cell_type": "markdown",
      "metadata": {
        "id": "view-in-github",
        "colab_type": "text"
      },
      "source": [
        "<a href=\"https://colab.research.google.com/github/martinpius/Computer-Vission/blob/main/MERGING_IMAGE_FILES_FROM_DIFFERENT_FOLDERS_IN_GOOLE_DRIVE.ipynb\" target=\"_parent\"><img src=\"https://colab.research.google.com/assets/colab-badge.svg\" alt=\"Open In Colab\"/></a>"
      ]
    },
    {
      "cell_type": "code",
      "metadata": {
        "colab": {
          "base_uri": "https://localhost:8080/"
        },
        "id": "YMje5OtM5kLf",
        "outputId": "a6380e6f-a82f-46a0-a3a0-7e9f02b23f7b"
      },
      "source": [
        "from google.colab import drive\n",
        "drive.mount(\"/content/drive\", force_remount = True)"
      ],
      "execution_count": 1,
      "outputs": [
        {
          "output_type": "stream",
          "text": [
            "Mounted at /content/drive\n"
          ],
          "name": "stdout"
        }
      ]
    },
    {
      "cell_type": "code",
      "metadata": {
        "id": "psFmN9DFXDoz"
      },
      "source": [
        "# In this notebook we write a few lines of code to merge image files from different folder located in a google drive\n",
        "#Folders may be located any where of course. For demo we use flickr30k images for captions problem"
      ],
      "execution_count": null,
      "outputs": []
    },
    {
      "cell_type": "code",
      "metadata": {
        "id": "vKEz0IYk5usX"
      },
      "source": [
        "import glob\n",
        "import os.path\n",
        "import shutil\n",
        "\n",
        "source_dir = '/content/drive/MyDrive/flickr30k_images/flickr30k_images'\n",
        "target_dir = \"/content/drive/MyDrive/flickr30k_images/flickr30k_images1\"\n",
        "\n",
        "glob_pars = \"*\" \n",
        "\n",
        "for file in glob.glob(os.path.join(source_dir, glob_pars)):\n",
        "    if file not in glob.glob(os.path.join(target_dir, glob_pars)):\n",
        "        shutil.copy(file,target_dir)\n",
        "    else:\n",
        "      # If the file already exist we print a notification for its existence\n",
        "        print(\"{} exists in {}\".format(\n",
        "            file,os.path.join(os.path.split(target_dir)[-2:])))\n",
        "        "
      ],
      "execution_count": 3,
      "outputs": []
    }
  ]
}