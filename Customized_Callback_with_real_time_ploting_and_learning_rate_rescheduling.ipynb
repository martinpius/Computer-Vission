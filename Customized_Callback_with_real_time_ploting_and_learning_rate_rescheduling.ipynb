{
  "nbformat": 4,
  "nbformat_minor": 0,
  "metadata": {
    "colab": {
      "name": "Customized Callback with real-time ploting and learning-rate rescheduling.ipynb",
      "provenance": [],
      "authorship_tag": "ABX9TyP0tBPghcvefqinjH317Y5Q",
      "include_colab_link": true
    },
    "kernelspec": {
      "name": "python3",
      "display_name": "Python 3"
    },
    "language_info": {
      "name": "python"
    },
    "accelerator": "GPU",
    "widgets": {
      "application/vnd.jupyter.widget-state+json": {
        "aef3138a472541118660a8b3ac38941e": {
          "model_module": "@jupyter-widgets/controls",
          "model_name": "HBoxModel",
          "state": {
            "_view_name": "HBoxView",
            "_dom_classes": [],
            "_model_name": "HBoxModel",
            "_view_module": "@jupyter-widgets/controls",
            "_model_module_version": "1.5.0",
            "_view_count": null,
            "_view_module_version": "1.5.0",
            "box_style": "",
            "layout": "IPY_MODEL_f343e09c34ff45bebae74d39f45233e8",
            "_model_module": "@jupyter-widgets/controls",
            "children": [
              "IPY_MODEL_65e6e050a9a246afa197d5154f048ee0",
              "IPY_MODEL_46b75cc436da46b78673ac74327a26da"
            ]
          }
        },
        "f343e09c34ff45bebae74d39f45233e8": {
          "model_module": "@jupyter-widgets/base",
          "model_name": "LayoutModel",
          "state": {
            "_view_name": "LayoutView",
            "grid_template_rows": null,
            "right": null,
            "justify_content": null,
            "_view_module": "@jupyter-widgets/base",
            "overflow": null,
            "_model_module_version": "1.2.0",
            "_view_count": null,
            "flex_flow": null,
            "width": null,
            "min_width": null,
            "border": null,
            "align_items": null,
            "bottom": null,
            "_model_module": "@jupyter-widgets/base",
            "top": null,
            "grid_column": null,
            "overflow_y": null,
            "overflow_x": null,
            "grid_auto_flow": null,
            "grid_area": null,
            "grid_template_columns": null,
            "flex": null,
            "_model_name": "LayoutModel",
            "justify_items": null,
            "grid_row": null,
            "max_height": null,
            "align_content": null,
            "visibility": null,
            "align_self": null,
            "height": null,
            "min_height": null,
            "padding": null,
            "grid_auto_rows": null,
            "grid_gap": null,
            "max_width": null,
            "order": null,
            "_view_module_version": "1.2.0",
            "grid_template_areas": null,
            "object_position": null,
            "object_fit": null,
            "grid_auto_columns": null,
            "margin": null,
            "display": null,
            "left": null
          }
        },
        "65e6e050a9a246afa197d5154f048ee0": {
          "model_module": "@jupyter-widgets/controls",
          "model_name": "FloatProgressModel",
          "state": {
            "_view_name": "ProgressView",
            "style": "IPY_MODEL_a16826aff92c4c3e86f7c84d0b557d0b",
            "_dom_classes": [],
            "description": "Dl Completed...: 100%",
            "_model_name": "FloatProgressModel",
            "bar_style": "success",
            "max": 4,
            "_view_module": "@jupyter-widgets/controls",
            "_model_module_version": "1.5.0",
            "value": 4,
            "_view_count": null,
            "_view_module_version": "1.5.0",
            "orientation": "horizontal",
            "min": 0,
            "description_tooltip": null,
            "_model_module": "@jupyter-widgets/controls",
            "layout": "IPY_MODEL_c6afd0ad3f144eaaa8dc3d9c26086f74"
          }
        },
        "46b75cc436da46b78673ac74327a26da": {
          "model_module": "@jupyter-widgets/controls",
          "model_name": "HTMLModel",
          "state": {
            "_view_name": "HTMLView",
            "style": "IPY_MODEL_8950028e83e941d6971b5275ebc4383f",
            "_dom_classes": [],
            "description": "",
            "_model_name": "HTMLModel",
            "placeholder": "​",
            "_view_module": "@jupyter-widgets/controls",
            "_model_module_version": "1.5.0",
            "value": " 4/4 [00:01&lt;00:00,  2.94 file/s]",
            "_view_count": null,
            "_view_module_version": "1.5.0",
            "description_tooltip": null,
            "_model_module": "@jupyter-widgets/controls",
            "layout": "IPY_MODEL_3f6ad83e5b454adf8ad1907d75fd0e4c"
          }
        },
        "a16826aff92c4c3e86f7c84d0b557d0b": {
          "model_module": "@jupyter-widgets/controls",
          "model_name": "ProgressStyleModel",
          "state": {
            "_view_name": "StyleView",
            "_model_name": "ProgressStyleModel",
            "description_width": "initial",
            "_view_module": "@jupyter-widgets/base",
            "_model_module_version": "1.5.0",
            "_view_count": null,
            "_view_module_version": "1.2.0",
            "bar_color": null,
            "_model_module": "@jupyter-widgets/controls"
          }
        },
        "c6afd0ad3f144eaaa8dc3d9c26086f74": {
          "model_module": "@jupyter-widgets/base",
          "model_name": "LayoutModel",
          "state": {
            "_view_name": "LayoutView",
            "grid_template_rows": null,
            "right": null,
            "justify_content": null,
            "_view_module": "@jupyter-widgets/base",
            "overflow": null,
            "_model_module_version": "1.2.0",
            "_view_count": null,
            "flex_flow": null,
            "width": null,
            "min_width": null,
            "border": null,
            "align_items": null,
            "bottom": null,
            "_model_module": "@jupyter-widgets/base",
            "top": null,
            "grid_column": null,
            "overflow_y": null,
            "overflow_x": null,
            "grid_auto_flow": null,
            "grid_area": null,
            "grid_template_columns": null,
            "flex": null,
            "_model_name": "LayoutModel",
            "justify_items": null,
            "grid_row": null,
            "max_height": null,
            "align_content": null,
            "visibility": null,
            "align_self": null,
            "height": null,
            "min_height": null,
            "padding": null,
            "grid_auto_rows": null,
            "grid_gap": null,
            "max_width": null,
            "order": null,
            "_view_module_version": "1.2.0",
            "grid_template_areas": null,
            "object_position": null,
            "object_fit": null,
            "grid_auto_columns": null,
            "margin": null,
            "display": null,
            "left": null
          }
        },
        "8950028e83e941d6971b5275ebc4383f": {
          "model_module": "@jupyter-widgets/controls",
          "model_name": "DescriptionStyleModel",
          "state": {
            "_view_name": "StyleView",
            "_model_name": "DescriptionStyleModel",
            "description_width": "",
            "_view_module": "@jupyter-widgets/base",
            "_model_module_version": "1.5.0",
            "_view_count": null,
            "_view_module_version": "1.2.0",
            "_model_module": "@jupyter-widgets/controls"
          }
        },
        "3f6ad83e5b454adf8ad1907d75fd0e4c": {
          "model_module": "@jupyter-widgets/base",
          "model_name": "LayoutModel",
          "state": {
            "_view_name": "LayoutView",
            "grid_template_rows": null,
            "right": null,
            "justify_content": null,
            "_view_module": "@jupyter-widgets/base",
            "overflow": null,
            "_model_module_version": "1.2.0",
            "_view_count": null,
            "flex_flow": null,
            "width": null,
            "min_width": null,
            "border": null,
            "align_items": null,
            "bottom": null,
            "_model_module": "@jupyter-widgets/base",
            "top": null,
            "grid_column": null,
            "overflow_y": null,
            "overflow_x": null,
            "grid_auto_flow": null,
            "grid_area": null,
            "grid_template_columns": null,
            "flex": null,
            "_model_name": "LayoutModel",
            "justify_items": null,
            "grid_row": null,
            "max_height": null,
            "align_content": null,
            "visibility": null,
            "align_self": null,
            "height": null,
            "min_height": null,
            "padding": null,
            "grid_auto_rows": null,
            "grid_gap": null,
            "max_width": null,
            "order": null,
            "_view_module_version": "1.2.0",
            "grid_template_areas": null,
            "object_position": null,
            "object_fit": null,
            "grid_auto_columns": null,
            "margin": null,
            "display": null,
            "left": null
          }
        }
      }
    }
  },
  "cells": [
    {
      "cell_type": "markdown",
      "metadata": {
        "id": "view-in-github",
        "colab_type": "text"
      },
      "source": [
        "<a href=\"https://colab.research.google.com/github/martinpius/Computer-Vission/blob/main/Customized_Callback_with_real_time_ploting_and_learning_rate_rescheduling.ipynb\" target=\"_parent\"><img src=\"https://colab.research.google.com/assets/colab-badge.svg\" alt=\"Open In Colab\"/></a>"
      ]
    },
    {
      "cell_type": "code",
      "metadata": {
        "colab": {
          "base_uri": "https://localhost:8080/"
        },
        "id": "m3pblFX9SHpz",
        "outputId": "f6c07464-f41f-4793-b60a-6d6063b8bb99"
      },
      "source": [
        "from google.colab import drive\n",
        "drive.mount(\"/content/drive\", force_remount = True)\n",
        "try:\n",
        "  COLAB = True\n",
        "  import tensorflow as tf\n",
        "  print(f\"You are on CoLaB with tensorflow version: {tf.__version__}\")\n",
        "except Exception as e:\n",
        "  print(f\"{type(e)}: {e}\\n>>>>please load your drive\")\n",
        "def time_fmt(t:float = 123.810)->float:\n",
        "  h = int(t / (60 * 60))\n",
        "  m = int(t % (60 * 60) / 60)\n",
        "  s = int(t % 60)\n",
        "  return f\"{h}: {m:>02}: {s:>05.2f}\"\n",
        "print(f\">>>>testing:\\tplease wait...\\ntime elapse:\\t{time_fmt()}\")\n"
      ],
      "execution_count": 1,
      "outputs": [
        {
          "output_type": "stream",
          "text": [
            "Mounted at /content/drive\n",
            "You are on CoLaB with tensorflow version: 2.4.1\n",
            ">>>>testing:\tplease wait...\n",
            "time elapse:\t0: 02: 03.00\n"
          ],
          "name": "stdout"
        }
      ]
    },
    {
      "cell_type": "code",
      "metadata": {
        "id": "nkk2G8CAT7Ut"
      },
      "source": [
        "import numpy as np\n",
        "import matplotlib.pyplot as plt\n",
        "import os, time, datetime\n",
        "import tensorflow as tf\n",
        "import tensorflow_datasets as tfds\n",
        "from tensorflow.keras.callbacks import Callback\n",
        "%load_ext tensorboard\n",
        "plt.style.use('fivethirtyeight')\n"
      ],
      "execution_count": 2,
      "outputs": []
    },
    {
      "cell_type": "code",
      "metadata": {
        "id": "O7U4bKjfU1LX"
      },
      "source": [
        "#Loading and processing the data:"
      ],
      "execution_count": 3,
      "outputs": []
    },
    {
      "cell_type": "code",
      "metadata": {
        "id": "6M2j3h3zU5v7"
      },
      "source": [
        "class _Get_data():\n",
        "\n",
        "  def _load_data(self):\n",
        "    (ds_train, ds_test), ds_info = tfds.load(\n",
        "        name = 'mnist',\n",
        "        with_info = True,\n",
        "        shuffle_files = True,\n",
        "        as_supervised = True,\n",
        "        split = ['train', 'test']\n",
        "    )\n",
        "    return ds_train, ds_test, ds_info\n",
        "\n",
        "  def _load_data_new(self):\n",
        "    (x_train, y_train), (x_test, y_test) = tf.keras.datasets.mnist.load_data()\n",
        "    x_train, x_test = x_train.reshape(-1, 28,28,1).astype(np.float32)/255.0, x_test.reshape(-1,28,28,1).astype(np.float32)/255.0\n",
        "    y_train, y_test = tf.keras.utils.to_categorical(y_train, num_classes = 10), tf.keras.utils.to_categorical(y_test, num_classes = 10)\n",
        "    BUFFER, BATCH_SIZE = len(x_train), 64\n",
        "    train_data = tf.data.Dataset.from_tensor_slices((x_train, y_train))\n",
        "    train_data = train_data.shuffle(BUFFER).batch(BATCH_SIZE, drop_remainder = True)\n",
        "    test_data = tf.data.Dataset.from_tensor_slices((x_test, y_test))\n",
        "    test_data = test_data.batch(BATCH_SIZE, drop_remainder = True)\n",
        "    return train_data, test_data\n",
        "\n",
        "  def _display_summary(self):\n",
        "    ds_train,_,ds_info = self._load_data()\n",
        "    print(ds_info)\n",
        "    fig = tfds.show_examples(ds_train, ds_info, rows = 5, cols = 5)\n",
        "    print(fig)\n",
        "  \n",
        "  def _preprocess_data(self,image, label):\n",
        "    return tf.cast(image, tf.float32)/255.0, label\n",
        "  \n",
        "  def _data_aug_(self, image, label):\n",
        "    image = tf.image.random_brightness(image, max_delta = 0.1)\n",
        "    image = tf.image.random_flip_left_right(image)\n",
        "    return image, label\n",
        "  \n",
        "  def _train_validation_data(self):\n",
        "    AUTOTUNE = tf.data.experimental.AUTOTUNE\n",
        "    BATCH_SIZE = 128\n",
        "    train_ds, test_ds, ds_info = self._load_data()\n",
        "    train_data = train_ds.map(self._preprocess_data, num_parallel_calls = AUTOTUNE)\n",
        "    train_data = train_data.cache()\n",
        "    train_data = train_data.shuffle(ds_info.splits['train'].num_examples)\n",
        "    train_data = train_data.map(self._data_aug_)\n",
        "    train_data = train_data.batch(batch_size = BATCH_SIZE, drop_remainder = True)\n",
        "    train_data = train_data.prefetch(AUTOTUNE)\n",
        "    test_data = test_ds.map(self._preprocess_data, num_parallel_calls = AUTOTUNE)\n",
        "    test_data = test_data.batch(batch_size = BATCH_SIZE, drop_remainder = True)\n",
        "    return train_data, test_data\n"
      ],
      "execution_count": 4,
      "outputs": []
    },
    {
      "cell_type": "code",
      "metadata": {
        "id": "sugv8TS0h39N"
      },
      "source": [
        "data_class = _Get_data()"
      ],
      "execution_count": 5,
      "outputs": []
    },
    {
      "cell_type": "code",
      "metadata": {
        "colab": {
          "base_uri": "https://localhost:8080/"
        },
        "id": "nYVFfKDaiES2",
        "outputId": "85d8f11c-b3a2-4c5a-8bf0-c422155f5ba2"
      },
      "source": [
        "train_data, test_data = data_class._load_data_new()"
      ],
      "execution_count": 6,
      "outputs": [
        {
          "output_type": "stream",
          "text": [
            "Downloading data from https://storage.googleapis.com/tensorflow/tf-keras-datasets/mnist.npz\n",
            "11493376/11490434 [==============================] - 0s 0us/step\n"
          ],
          "name": "stdout"
        }
      ]
    },
    {
      "cell_type": "code",
      "metadata": {
        "colab": {
          "base_uri": "https://localhost:8080/"
        },
        "id": "az--UrwXEJFm",
        "outputId": "e8e1c613-2f07-40ba-9982-a7eb97a4f76b"
      },
      "source": [
        "x_batch, y_batch = next(iter(train_data))\n",
        "x_batch.shape, y_batch.shape"
      ],
      "execution_count": 7,
      "outputs": [
        {
          "output_type": "execute_result",
          "data": {
            "text/plain": [
              "(TensorShape([64, 28, 28, 1]), TensorShape([64, 10]))"
            ]
          },
          "metadata": {
            "tags": []
          },
          "execution_count": 7
        }
      ]
    },
    {
      "cell_type": "code",
      "metadata": {
        "colab": {
          "base_uri": "https://localhost:8080/",
          "height": 1000,
          "referenced_widgets": [
            "aef3138a472541118660a8b3ac38941e",
            "f343e09c34ff45bebae74d39f45233e8",
            "65e6e050a9a246afa197d5154f048ee0",
            "46b75cc436da46b78673ac74327a26da",
            "a16826aff92c4c3e86f7c84d0b557d0b",
            "c6afd0ad3f144eaaa8dc3d9c26086f74",
            "8950028e83e941d6971b5275ebc4383f",
            "3f6ad83e5b454adf8ad1907d75fd0e4c"
          ]
        },
        "id": "CsnE9VOPiRbC",
        "outputId": "970f938d-e4fe-4344-9d05-ccd2b35feb5c"
      },
      "source": [
        "my_summary = data_class._display_summary()"
      ],
      "execution_count": 8,
      "outputs": [
        {
          "output_type": "stream",
          "text": [
            "\u001b[1mDownloading and preparing dataset mnist/3.0.1 (download: 11.06 MiB, generated: 21.00 MiB, total: 32.06 MiB) to /root/tensorflow_datasets/mnist/3.0.1...\u001b[0m\n"
          ],
          "name": "stdout"
        },
        {
          "output_type": "stream",
          "text": [
            "WARNING:absl:Dataset mnist is hosted on GCS. It will automatically be downloaded to your\n",
            "local data directory. If you'd instead prefer to read directly from our public\n",
            "GCS bucket (recommended if you're running on GCP), you can instead pass\n",
            "`try_gcs=True` to `tfds.load` or set `data_dir=gs://tfds-data/datasets`.\n",
            "\n"
          ],
          "name": "stderr"
        },
        {
          "output_type": "display_data",
          "data": {
            "application/vnd.jupyter.widget-view+json": {
              "model_id": "aef3138a472541118660a8b3ac38941e",
              "version_minor": 0,
              "version_major": 2
            },
            "text/plain": [
              "HBox(children=(FloatProgress(value=0.0, description='Dl Completed...', max=4.0, style=ProgressStyle(descriptio…"
            ]
          },
          "metadata": {
            "tags": []
          }
        },
        {
          "output_type": "stream",
          "text": [
            "\n",
            "\n",
            "\u001b[1mDataset mnist downloaded and prepared to /root/tensorflow_datasets/mnist/3.0.1. Subsequent calls will reuse this data.\u001b[0m\n",
            "tfds.core.DatasetInfo(\n",
            "    name='mnist',\n",
            "    version=3.0.1,\n",
            "    description='The MNIST database of handwritten digits.',\n",
            "    homepage='http://yann.lecun.com/exdb/mnist/',\n",
            "    features=FeaturesDict({\n",
            "        'image': Image(shape=(28, 28, 1), dtype=tf.uint8),\n",
            "        'label': ClassLabel(shape=(), dtype=tf.int64, num_classes=10),\n",
            "    }),\n",
            "    total_num_examples=70000,\n",
            "    splits={\n",
            "        'test': 10000,\n",
            "        'train': 60000,\n",
            "    },\n",
            "    supervised_keys=('image', 'label'),\n",
            "    citation=\"\"\"@article{lecun2010mnist,\n",
            "      title={MNIST handwritten digit database},\n",
            "      author={LeCun, Yann and Cortes, Corinna and Burges, CJ},\n",
            "      journal={ATT Labs [Online]. Available: http://yann.lecun.com/exdb/mnist},\n",
            "      volume={2},\n",
            "      year={2010}\n",
            "    }\"\"\",\n",
            "    redistribution_info=,\n",
            ")\n",
            "\n"
          ],
          "name": "stdout"
        },
        {
          "output_type": "display_data",
          "data": {
            "image/png": "[encoded data removed]",
            "text/plain": [
              "<Figure size 1080x1080 with 25 Axes>"
            ]
          },
          "metadata": {
            "tags": []
          }
        },
        {
          "output_type": "stream",
          "text": [
            "Figure(1080x1080)\n"
          ],
          "name": "stdout"
        }
      ]
    },
    {
      "cell_type": "code",
      "metadata": {
        "id": "Oi_0R_dZisdZ"
      },
      "source": [
        "#Building the simple residual network:"
      ],
      "execution_count": 9,
      "outputs": []
    },
    {
      "cell_type": "code",
      "metadata": {
        "id": "uKw7uwuPqR3c"
      },
      "source": [
        "class CNNBLOCK(tf.keras.layers.Layer):\n",
        "  \n",
        "  def __init__(self, num_filters, kernel = 3, *args, **kwargs):\n",
        "    super(CNNBLOCK, self).__init__(*args, **kwargs)\n",
        "    self.conv = tf.keras.layers.Conv2D(filters = num_filters,\n",
        "                                       kernel_size = 3, \n",
        "                                       activation = 'relu',\n",
        "                                       padding = 'same')\n",
        "    self.bn = tf.keras.layers.BatchNormalization()\n",
        "  \n",
        "  def call(self, inputs_tensor, training = False):\n",
        "    x = self.conv(inputs_tensor, training = training)\n",
        "    x = self.bn(x)\n",
        "    return x\n",
        "\n",
        "class ResBlock(tf.keras.layers.Layer):\n",
        "\n",
        "  def __init__(self, num_filters, *args, **kwargs):\n",
        "    super(ResBlock, self).__init__(*args, **kwargs)\n",
        "    self.resblock_1 = CNNBLOCK(num_filters[0])\n",
        "    self.resblock_2 = CNNBLOCK(num_filters[1])\n",
        "    self.resblock_3 = CNNBLOCK(num_filters[2])\n",
        "    self.max_pool = tf.keras.layers.MaxPooling2D()\n",
        "    self.id_map = tf.keras.layers.Conv2D(filters = num_filters[1],\n",
        "                                         kernel_size = 3,\n",
        "                                         padding = 'same',\n",
        "                                         activation = 'relu')\n",
        "  \n",
        "  def call(self, inputs_tensor, training = False):\n",
        "    x = self.resblock_1(inputs_tensor, training = training)\n",
        "    x = self.resblock_2(x, training = training)\n",
        "    x = self.resblock_3(x + self.id_map(inputs_tensor), training = training)\n",
        "    x = self.max_pool(x)\n",
        "    return x\n",
        "\n",
        "class SimpleResModel(tf.keras.Model):\n",
        "  def __init__(self, num_classes = 10, *args, **kwargs):\n",
        "    super(SimpleResModel, self).__init__(*args, **kwargs)\n",
        "    self.block_1 = ResBlock(num_filters = [32,64,128], name = 'block_1')\n",
        "    self.block_2 = ResBlock(num_filters = [64, 128,256], name = 'block_2')\n",
        "    self.block_3 = ResBlock(num_filters = [128, 256, 256], name = 'block_3')\n",
        "    self.flt = tf.keras.layers.Flatten()\n",
        "    self.dense_1 = tf.keras.layers.Dense(units = 128, activation = 'relu', kernel_initializer = 'random_normal', name = 'dense_1')\n",
        "    self.dense_2 = tf.keras.layers.Dense(units = 64, activation = 'relu', kernel_initializer = 'random_normal', name = 'dense_2')\n",
        "    self.outputs = tf.keras.layers.Dense(units = num_classes, name = 'outputs')\n",
        "  \n",
        "  def call(self, inputs_tensor, training = False):\n",
        "    x = self.block_1(inputs_tensor, training = training)\n",
        "    x = self.block_2(x, training = training)\n",
        "    x = self.block_3(x, training = training)\n",
        "    x = self.flt(x)\n",
        "    x = self.dense_1(x, training = training)\n",
        "    x = self.dense_2(x, training = training)\n",
        "    x = self.outputs(x, training = training)\n",
        "    return x\n",
        "\n"
      ],
      "execution_count": 10,
      "outputs": []
    },
    {
      "cell_type": "code",
      "metadata": {
        "id": "_tuY4zNQ1OVk"
      },
      "source": [
        "#Get the model by instantiating the model class above:\n",
        "model = SimpleResModel()"
      ],
      "execution_count": 11,
      "outputs": []
    },
    {
      "cell_type": "code",
      "metadata": {
        "id": "fpaMazkN1f9x"
      },
      "source": [
        "#Defining the custom callback:"
      ],
      "execution_count": 12,
      "outputs": []
    },
    {
      "cell_type": "code",
      "metadata": {
        "id": "JWLM5vHM1ucM"
      },
      "source": [
        "class TrainingCallback(Callback):\n",
        "  def on_train_begin(self, logs = None):\n",
        "    print(f\"The bigining of the training.....\")\n",
        "  def on_epoch_begin(self, epoch, logs = None):\n",
        "    print(f\"The begining of epoch: {epoch + 1}\")\n",
        "  def on_train_batch_begin(self, batch, logs = None):\n",
        "    print(f\"Training start for batch: {batch}\")\n",
        "  def on_train_batch_end(self, batch, logs = None):\n",
        "    print(f\"Training end for batch: {batch}, Loss: {logs['loss']}\")\n",
        "  def on_epoch_end(self, epoch, logs = None):\n",
        "    print(f\"Training end at epoch {epoch + 1}, Loss: {logs['loss']}, Accuracy: {logs['categorical_accuracy']}\")\n",
        "  def on_train_end(self, logs = None):\n",
        "    print(f\"The model has finished training\")"
      ],
      "execution_count": 17,
      "outputs": []
    },
    {
      "cell_type": "code",
      "metadata": {
        "colab": {
          "base_uri": "https://localhost:8080/",
          "height": 309
        },
        "id": "dsJ2qcgE9hve",
        "outputId": "6d657eb9-bec7-420a-ef2e-a6c090c60393"
      },
      "source": [
        "fig= plt.figure(figsize = (12,4))\n",
        "ax = fig.add_subplot()\n",
        "ax.set_xlabel('number of epochs')\n",
        "ax.set_ylabel('train loss')\n",
        "class TrainingPlot(tf.keras.callbacks.Callback):\n",
        "    def on_train_begin(self, logs={}):\n",
        "        self.losses = []\n",
        "    \n",
        "    def on_epoch_end(self, epoch, logs={}):\n",
        "        self.losses.append(logs['loss'])\n",
        "        epochs = np.arange(0, len(self.losses))\n",
        "        ax.plot(epochs, self.losses, \"b-\")\n",
        "        fig.canvas.draw()\n",
        "\n"
      ],
      "execution_count": 25,
      "outputs": [
        {
          "output_type": "display_data",
          "data": {
            "image/png": "[encoded data removed]",
            "text/plain": [
              "<Figure size 864x288 with 1 Axes>"
            ]
          },
          "metadata": {
            "tags": []
          }
        }
      ]
    },
    {
      "cell_type": "code",
      "metadata": {
        "id": "ODkOM8BoBcv_"
      },
      "source": [
        "#Compiling and train the model:\n",
        "model.compile(loss = tf.keras.losses.CategoricalCrossentropy(from_logits = True),\n",
        "              optimizer = tf.keras.optimizers.Adam(learning_rate = 0.001),\n",
        "              metrics = tf.keras.metrics.CategoricalAccuracy())"
      ],
      "execution_count": 26,
      "outputs": []
    },
    {
      "cell_type": "code",
      "metadata": {
        "colab": {
          "base_uri": "https://localhost:8080/"
        },
        "id": "b6xet4caCJ7_",
        "outputId": "8ee7dcd0-1a85-4a24-cb72-4697f10ec993"
      },
      "source": [
        "%matplotlib inline\n",
        "tic = time.time()\n",
        "\n",
        "history = model.fit(\n",
        "    train_data,epochs = 3, validation_data = test_data, verbose = 2, callbacks = [TrainingPlot()]\n",
        ")\n",
        "toc = time.time()\n",
        "print(f\"training duration is :\\n>>>>training time: {time_fmt(toc - tic)}\")"
      ],
      "execution_count": 29,
      "outputs": [
        {
          "output_type": "stream",
          "text": [
            "Epoch 1/3\n",
            "937/937 - 16s - loss: 0.0047 - categorical_accuracy: 0.9987 - val_loss: 0.0334 - val_categorical_accuracy: 0.9928\n",
            "Epoch 2/3\n",
            "937/937 - 15s - loss: 0.0096 - categorical_accuracy: 0.9976 - val_loss: 0.1945 - val_categorical_accuracy: 0.9908\n",
            "Epoch 3/3\n",
            "937/937 - 15s - loss: 0.0062 - categorical_accuracy: 0.9982 - val_loss: 0.0241 - val_categorical_accuracy: 0.9950\n",
            "training duration is :\n",
            ">>>>training time: 0: 00: 47.00\n"
          ],
          "name": "stdout"
        }
      ]
    },
    {
      "cell_type": "code",
      "metadata": {
        "id": "dDIT-ymBOV-5"
      },
      "source": [
        ""
      ],
      "execution_count": null,
      "outputs": []
    }
  ]
}