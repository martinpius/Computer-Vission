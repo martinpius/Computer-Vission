{
  "nbformat": 4,
  "nbformat_minor": 0,
  "metadata": {
    "colab": {
      "name": "introduction to tensorbord callback.ipynb",
      "provenance": [],
      "collapsed_sections": [],
      "authorship_tag": "ABX9TyPb80XeTozEGClHvs5r6uYO",
      "include_colab_link": true
    },
    "kernelspec": {
      "name": "python3",
      "display_name": "Python 3"
    },
    "language_info": {
      "name": "python"
    },
    "accelerator": "GPU",
    "widgets": {
      "application/vnd.jupyter.widget-state+json": {
        "ca2f5313211c4623af14836603d173ef": {
          "model_module": "@jupyter-widgets/controls",
          "model_name": "HBoxModel",
          "state": {
            "_view_name": "HBoxView",
            "_dom_classes": [],
            "_model_name": "HBoxModel",
            "_view_module": "@jupyter-widgets/controls",
            "_model_module_version": "1.5.0",
            "_view_count": null,
            "_view_module_version": "1.5.0",
            "box_style": "",
            "layout": "IPY_MODEL_19fe6de18efe49f6b0f1953e4e1e79ae",
            "_model_module": "@jupyter-widgets/controls",
            "children": [
              "IPY_MODEL_601eea1ed3a043c6ac32cc7403737205",
              "IPY_MODEL_fcc49e5113d74b468794092a1e8244e9"
            ]
          }
        },
        "19fe6de18efe49f6b0f1953e4e1e79ae": {
          "model_module": "@jupyter-widgets/base",
          "model_name": "LayoutModel",
          "state": {
            "_view_name": "LayoutView",
            "grid_template_rows": null,
            "right": null,
            "justify_content": null,
            "_view_module": "@jupyter-widgets/base",
            "overflow": null,
            "_model_module_version": "1.2.0",
            "_view_count": null,
            "flex_flow": null,
            "width": null,
            "min_width": null,
            "border": null,
            "align_items": null,
            "bottom": null,
            "_model_module": "@jupyter-widgets/base",
            "top": null,
            "grid_column": null,
            "overflow_y": null,
            "overflow_x": null,
            "grid_auto_flow": null,
            "grid_area": null,
            "grid_template_columns": null,
            "flex": null,
            "_model_name": "LayoutModel",
            "justify_items": null,
            "grid_row": null,
            "max_height": null,
            "align_content": null,
            "visibility": null,
            "align_self": null,
            "height": null,
            "min_height": null,
            "padding": null,
            "grid_auto_rows": null,
            "grid_gap": null,
            "max_width": null,
            "order": null,
            "_view_module_version": "1.2.0",
            "grid_template_areas": null,
            "object_position": null,
            "object_fit": null,
            "grid_auto_columns": null,
            "margin": null,
            "display": null,
            "left": null
          }
        },
        "601eea1ed3a043c6ac32cc7403737205": {
          "model_module": "@jupyter-widgets/controls",
          "model_name": "FloatProgressModel",
          "state": {
            "_view_name": "ProgressView",
            "style": "IPY_MODEL_703ec179f49d4370aa41bba98fcc69e0",
            "_dom_classes": [],
            "description": "Dl Completed...: 100%",
            "_model_name": "FloatProgressModel",
            "bar_style": "success",
            "max": 1,
            "_view_module": "@jupyter-widgets/controls",
            "_model_module_version": "1.5.0",
            "value": 1,
            "_view_count": null,
            "_view_module_version": "1.5.0",
            "orientation": "horizontal",
            "min": 0,
            "description_tooltip": null,
            "_model_module": "@jupyter-widgets/controls",
            "layout": "IPY_MODEL_4a4b35e4c7a94b5aa0094d01f5758202"
          }
        },
        "fcc49e5113d74b468794092a1e8244e9": {
          "model_module": "@jupyter-widgets/controls",
          "model_name": "HTMLModel",
          "state": {
            "_view_name": "HTMLView",
            "style": "IPY_MODEL_075562957de44b9c81814f24cc8ee8b6",
            "_dom_classes": [],
            "description": "",
            "_model_name": "HTMLModel",
            "placeholder": "​",
            "_view_module": "@jupyter-widgets/controls",
            "_model_module_version": "1.5.0",
            "value": " 1/1 [00:06&lt;00:00,  6.66s/ url]",
            "_view_count": null,
            "_view_module_version": "1.5.0",
            "description_tooltip": null,
            "_model_module": "@jupyter-widgets/controls",
            "layout": "IPY_MODEL_8476455ad5b74cb889284abab14cea52"
          }
        },
        "703ec179f49d4370aa41bba98fcc69e0": {
          "model_module": "@jupyter-widgets/controls",
          "model_name": "ProgressStyleModel",
          "state": {
            "_view_name": "StyleView",
            "_model_name": "ProgressStyleModel",
            "description_width": "initial",
            "_view_module": "@jupyter-widgets/base",
            "_model_module_version": "1.5.0",
            "_view_count": null,
            "_view_module_version": "1.2.0",
            "bar_color": null,
            "_model_module": "@jupyter-widgets/controls"
          }
        },
        "4a4b35e4c7a94b5aa0094d01f5758202": {
          "model_module": "@jupyter-widgets/base",
          "model_name": "LayoutModel",
          "state": {
            "_view_name": "LayoutView",
            "grid_template_rows": null,
            "right": null,
            "justify_content": null,
            "_view_module": "@jupyter-widgets/base",
            "overflow": null,
            "_model_module_version": "1.2.0",
            "_view_count": null,
            "flex_flow": null,
            "width": null,
            "min_width": null,
            "border": null,
            "align_items": null,
            "bottom": null,
            "_model_module": "@jupyter-widgets/base",
            "top": null,
            "grid_column": null,
            "overflow_y": null,
            "overflow_x": null,
            "grid_auto_flow": null,
            "grid_area": null,
            "grid_template_columns": null,
            "flex": null,
            "_model_name": "LayoutModel",
            "justify_items": null,
            "grid_row": null,
            "max_height": null,
            "align_content": null,
            "visibility": null,
            "align_self": null,
            "height": null,
            "min_height": null,
            "padding": null,
            "grid_auto_rows": null,
            "grid_gap": null,
            "max_width": null,
            "order": null,
            "_view_module_version": "1.2.0",
            "grid_template_areas": null,
            "object_position": null,
            "object_fit": null,
            "grid_auto_columns": null,
            "margin": null,
            "display": null,
            "left": null
          }
        },
        "075562957de44b9c81814f24cc8ee8b6": {
          "model_module": "@jupyter-widgets/controls",
          "model_name": "DescriptionStyleModel",
          "state": {
            "_view_name": "StyleView",
            "_model_name": "DescriptionStyleModel",
            "description_width": "",
            "_view_module": "@jupyter-widgets/base",
            "_model_module_version": "1.5.0",
            "_view_count": null,
            "_view_module_version": "1.2.0",
            "_model_module": "@jupyter-widgets/controls"
          }
        },
        "8476455ad5b74cb889284abab14cea52": {
          "model_module": "@jupyter-widgets/base",
          "model_name": "LayoutModel",
          "state": {
            "_view_name": "LayoutView",
            "grid_template_rows": null,
            "right": null,
            "justify_content": null,
            "_view_module": "@jupyter-widgets/base",
            "overflow": null,
            "_model_module_version": "1.2.0",
            "_view_count": null,
            "flex_flow": null,
            "width": null,
            "min_width": null,
            "border": null,
            "align_items": null,
            "bottom": null,
            "_model_module": "@jupyter-widgets/base",
            "top": null,
            "grid_column": null,
            "overflow_y": null,
            "overflow_x": null,
            "grid_auto_flow": null,
            "grid_area": null,
            "grid_template_columns": null,
            "flex": null,
            "_model_name": "LayoutModel",
            "justify_items": null,
            "grid_row": null,
            "max_height": null,
            "align_content": null,
            "visibility": null,
            "align_self": null,
            "height": null,
            "min_height": null,
            "padding": null,
            "grid_auto_rows": null,
            "grid_gap": null,
            "max_width": null,
            "order": null,
            "_view_module_version": "1.2.0",
            "grid_template_areas": null,
            "object_position": null,
            "object_fit": null,
            "grid_auto_columns": null,
            "margin": null,
            "display": null,
            "left": null
          }
        },
        "52fa7afa7d3b462fa5bbfd7fe3a1da6b": {
          "model_module": "@jupyter-widgets/controls",
          "model_name": "HBoxModel",
          "state": {
            "_view_name": "HBoxView",
            "_dom_classes": [],
            "_model_name": "HBoxModel",
            "_view_module": "@jupyter-widgets/controls",
            "_model_module_version": "1.5.0",
            "_view_count": null,
            "_view_module_version": "1.5.0",
            "box_style": "",
            "layout": "IPY_MODEL_da4fa1ba01e24f87a443997ce1d22e1c",
            "_model_module": "@jupyter-widgets/controls",
            "children": [
              "IPY_MODEL_e6e4f5e2260b4d9a918c167f78d34b15",
              "IPY_MODEL_e3406187ab8f43b1a9309013a0a27cee"
            ]
          }
        },
        "da4fa1ba01e24f87a443997ce1d22e1c": {
          "model_module": "@jupyter-widgets/base",
          "model_name": "LayoutModel",
          "state": {
            "_view_name": "LayoutView",
            "grid_template_rows": null,
            "right": null,
            "justify_content": null,
            "_view_module": "@jupyter-widgets/base",
            "overflow": null,
            "_model_module_version": "1.2.0",
            "_view_count": null,
            "flex_flow": null,
            "width": null,
            "min_width": null,
            "border": null,
            "align_items": null,
            "bottom": null,
            "_model_module": "@jupyter-widgets/base",
            "top": null,
            "grid_column": null,
            "overflow_y": null,
            "overflow_x": null,
            "grid_auto_flow": null,
            "grid_area": null,
            "grid_template_columns": null,
            "flex": null,
            "_model_name": "LayoutModel",
            "justify_items": null,
            "grid_row": null,
            "max_height": null,
            "align_content": null,
            "visibility": null,
            "align_self": null,
            "height": null,
            "min_height": null,
            "padding": null,
            "grid_auto_rows": null,
            "grid_gap": null,
            "max_width": null,
            "order": null,
            "_view_module_version": "1.2.0",
            "grid_template_areas": null,
            "object_position": null,
            "object_fit": null,
            "grid_auto_columns": null,
            "margin": null,
            "display": null,
            "left": null
          }
        },
        "e6e4f5e2260b4d9a918c167f78d34b15": {
          "model_module": "@jupyter-widgets/controls",
          "model_name": "FloatProgressModel",
          "state": {
            "_view_name": "ProgressView",
            "style": "IPY_MODEL_ab754c1199e14f99a174963b069804fe",
            "_dom_classes": [],
            "description": "Dl Size...: 100%",
            "_model_name": "FloatProgressModel",
            "bar_style": "success",
            "max": 1,
            "_view_module": "@jupyter-widgets/controls",
            "_model_module_version": "1.5.0",
            "value": 1,
            "_view_count": null,
            "_view_module_version": "1.5.0",
            "orientation": "horizontal",
            "min": 0,
            "description_tooltip": null,
            "_model_module": "@jupyter-widgets/controls",
            "layout": "IPY_MODEL_83d66b66459648389ca0a32b0a8a113f"
          }
        },
        "e3406187ab8f43b1a9309013a0a27cee": {
          "model_module": "@jupyter-widgets/controls",
          "model_name": "HTMLModel",
          "state": {
            "_view_name": "HTMLView",
            "style": "IPY_MODEL_fbd68f08220d455e94a90e00937b60ca",
            "_dom_classes": [],
            "description": "",
            "_model_name": "HTMLModel",
            "placeholder": "​",
            "_view_module": "@jupyter-widgets/controls",
            "_model_module_version": "1.5.0",
            "value": " 162/162 [00:06&lt;00:00, 24.46 MiB/s]",
            "_view_count": null,
            "_view_module_version": "1.5.0",
            "description_tooltip": null,
            "_model_module": "@jupyter-widgets/controls",
            "layout": "IPY_MODEL_8ff07dc9cece4ae2bab00175ed1e6a7e"
          }
        },
        "ab754c1199e14f99a174963b069804fe": {
          "model_module": "@jupyter-widgets/controls",
          "model_name": "ProgressStyleModel",
          "state": {
            "_view_name": "StyleView",
            "_model_name": "ProgressStyleModel",
            "description_width": "initial",
            "_view_module": "@jupyter-widgets/base",
            "_model_module_version": "1.5.0",
            "_view_count": null,
            "_view_module_version": "1.2.0",
            "bar_color": null,
            "_model_module": "@jupyter-widgets/controls"
          }
        },
        "83d66b66459648389ca0a32b0a8a113f": {
          "model_module": "@jupyter-widgets/base",
          "model_name": "LayoutModel",
          "state": {
            "_view_name": "LayoutView",
            "grid_template_rows": null,
            "right": null,
            "justify_content": null,
            "_view_module": "@jupyter-widgets/base",
            "overflow": null,
            "_model_module_version": "1.2.0",
            "_view_count": null,
            "flex_flow": null,
            "width": null,
            "min_width": null,
            "border": null,
            "align_items": null,
            "bottom": null,
            "_model_module": "@jupyter-widgets/base",
            "top": null,
            "grid_column": null,
            "overflow_y": null,
            "overflow_x": null,
            "grid_auto_flow": null,
            "grid_area": null,
            "grid_template_columns": null,
            "flex": null,
            "_model_name": "LayoutModel",
            "justify_items": null,
            "grid_row": null,
            "max_height": null,
            "align_content": null,
            "visibility": null,
            "align_self": null,
            "height": null,
            "min_height": null,
            "padding": null,
            "grid_auto_rows": null,
            "grid_gap": null,
            "max_width": null,
            "order": null,
            "_view_module_version": "1.2.0",
            "grid_template_areas": null,
            "object_position": null,
            "object_fit": null,
            "grid_auto_columns": null,
            "margin": null,
            "display": null,
            "left": null
          }
        },
        "fbd68f08220d455e94a90e00937b60ca": {
          "model_module": "@jupyter-widgets/controls",
          "model_name": "DescriptionStyleModel",
          "state": {
            "_view_name": "StyleView",
            "_model_name": "DescriptionStyleModel",
            "description_width": "",
            "_view_module": "@jupyter-widgets/base",
            "_model_module_version": "1.5.0",
            "_view_count": null,
            "_view_module_version": "1.2.0",
            "_model_module": "@jupyter-widgets/controls"
          }
        },
        "8ff07dc9cece4ae2bab00175ed1e6a7e": {
          "model_module": "@jupyter-widgets/base",
          "model_name": "LayoutModel",
          "state": {
            "_view_name": "LayoutView",
            "grid_template_rows": null,
            "right": null,
            "justify_content": null,
            "_view_module": "@jupyter-widgets/base",
            "overflow": null,
            "_model_module_version": "1.2.0",
            "_view_count": null,
            "flex_flow": null,
            "width": null,
            "min_width": null,
            "border": null,
            "align_items": null,
            "bottom": null,
            "_model_module": "@jupyter-widgets/base",
            "top": null,
            "grid_column": null,
            "overflow_y": null,
            "overflow_x": null,
            "grid_auto_flow": null,
            "grid_area": null,
            "grid_template_columns": null,
            "flex": null,
            "_model_name": "LayoutModel",
            "justify_items": null,
            "grid_row": null,
            "max_height": null,
            "align_content": null,
            "visibility": null,
            "align_self": null,
            "height": null,
            "min_height": null,
            "padding": null,
            "grid_auto_rows": null,
            "grid_gap": null,
            "max_width": null,
            "order": null,
            "_view_module_version": "1.2.0",
            "grid_template_areas": null,
            "object_position": null,
            "object_fit": null,
            "grid_auto_columns": null,
            "margin": null,
            "display": null,
            "left": null
          }
        },
        "f16a7e35ec5541829bbebc44fa8bf110": {
          "model_module": "@jupyter-widgets/controls",
          "model_name": "HBoxModel",
          "state": {
            "_view_name": "HBoxView",
            "_dom_classes": [],
            "_model_name": "HBoxModel",
            "_view_module": "@jupyter-widgets/controls",
            "_model_module_version": "1.5.0",
            "_view_count": null,
            "_view_module_version": "1.5.0",
            "box_style": "",
            "layout": "IPY_MODEL_f5209fa9f85f41009dd359e7c14004c3",
            "_model_module": "@jupyter-widgets/controls",
            "children": [
              "IPY_MODEL_7b817fea18a14957bdf37bad9cbe8d8d",
              "IPY_MODEL_ba458a8a8d74436683009bf8ed47593b"
            ]
          }
        },
        "f5209fa9f85f41009dd359e7c14004c3": {
          "model_module": "@jupyter-widgets/base",
          "model_name": "LayoutModel",
          "state": {
            "_view_name": "LayoutView",
            "grid_template_rows": null,
            "right": null,
            "justify_content": null,
            "_view_module": "@jupyter-widgets/base",
            "overflow": null,
            "_model_module_version": "1.2.0",
            "_view_count": null,
            "flex_flow": null,
            "width": null,
            "min_width": null,
            "border": null,
            "align_items": null,
            "bottom": null,
            "_model_module": "@jupyter-widgets/base",
            "top": null,
            "grid_column": null,
            "overflow_y": null,
            "overflow_x": null,
            "grid_auto_flow": null,
            "grid_area": null,
            "grid_template_columns": null,
            "flex": null,
            "_model_name": "LayoutModel",
            "justify_items": null,
            "grid_row": null,
            "max_height": null,
            "align_content": null,
            "visibility": null,
            "align_self": null,
            "height": null,
            "min_height": null,
            "padding": null,
            "grid_auto_rows": null,
            "grid_gap": null,
            "max_width": null,
            "order": null,
            "_view_module_version": "1.2.0",
            "grid_template_areas": null,
            "object_position": null,
            "object_fit": null,
            "grid_auto_columns": null,
            "margin": null,
            "display": null,
            "left": null
          }
        },
        "7b817fea18a14957bdf37bad9cbe8d8d": {
          "model_module": "@jupyter-widgets/controls",
          "model_name": "FloatProgressModel",
          "state": {
            "_view_name": "ProgressView",
            "style": "IPY_MODEL_507fef68cd8e43a29fefa081a4002e6e",
            "_dom_classes": [],
            "description": "Extraction completed...: 100%",
            "_model_name": "FloatProgressModel",
            "bar_style": "success",
            "max": 1,
            "_view_module": "@jupyter-widgets/controls",
            "_model_module_version": "1.5.0",
            "value": 1,
            "_view_count": null,
            "_view_module_version": "1.5.0",
            "orientation": "horizontal",
            "min": 0,
            "description_tooltip": null,
            "_model_module": "@jupyter-widgets/controls",
            "layout": "IPY_MODEL_cb107825eafe410ab55fd9cebc8be034"
          }
        },
        "ba458a8a8d74436683009bf8ed47593b": {
          "model_module": "@jupyter-widgets/controls",
          "model_name": "HTMLModel",
          "state": {
            "_view_name": "HTMLView",
            "style": "IPY_MODEL_9eed06304b814cc982a6523473c92d16",
            "_dom_classes": [],
            "description": "",
            "_model_name": "HTMLModel",
            "placeholder": "​",
            "_view_module": "@jupyter-widgets/controls",
            "_model_module_version": "1.5.0",
            "value": " 1/1 [00:06&lt;00:00,  6.58s/ file]",
            "_view_count": null,
            "_view_module_version": "1.5.0",
            "description_tooltip": null,
            "_model_module": "@jupyter-widgets/controls",
            "layout": "IPY_MODEL_1a0b5385b05e4ae9a9616c2446ec6b82"
          }
        },
        "507fef68cd8e43a29fefa081a4002e6e": {
          "model_module": "@jupyter-widgets/controls",
          "model_name": "ProgressStyleModel",
          "state": {
            "_view_name": "StyleView",
            "_model_name": "ProgressStyleModel",
            "description_width": "initial",
            "_view_module": "@jupyter-widgets/base",
            "_model_module_version": "1.5.0",
            "_view_count": null,
            "_view_module_version": "1.2.0",
            "bar_color": null,
            "_model_module": "@jupyter-widgets/controls"
          }
        },
        "cb107825eafe410ab55fd9cebc8be034": {
          "model_module": "@jupyter-widgets/base",
          "model_name": "LayoutModel",
          "state": {
            "_view_name": "LayoutView",
            "grid_template_rows": null,
            "right": null,
            "justify_content": null,
            "_view_module": "@jupyter-widgets/base",
            "overflow": null,
            "_model_module_version": "1.2.0",
            "_view_count": null,
            "flex_flow": null,
            "width": null,
            "min_width": null,
            "border": null,
            "align_items": null,
            "bottom": null,
            "_model_module": "@jupyter-widgets/base",
            "top": null,
            "grid_column": null,
            "overflow_y": null,
            "overflow_x": null,
            "grid_auto_flow": null,
            "grid_area": null,
            "grid_template_columns": null,
            "flex": null,
            "_model_name": "LayoutModel",
            "justify_items": null,
            "grid_row": null,
            "max_height": null,
            "align_content": null,
            "visibility": null,
            "align_self": null,
            "height": null,
            "min_height": null,
            "padding": null,
            "grid_auto_rows": null,
            "grid_gap": null,
            "max_width": null,
            "order": null,
            "_view_module_version": "1.2.0",
            "grid_template_areas": null,
            "object_position": null,
            "object_fit": null,
            "grid_auto_columns": null,
            "margin": null,
            "display": null,
            "left": null
          }
        },
        "9eed06304b814cc982a6523473c92d16": {
          "model_module": "@jupyter-widgets/controls",
          "model_name": "DescriptionStyleModel",
          "state": {
            "_view_name": "StyleView",
            "_model_name": "DescriptionStyleModel",
            "description_width": "",
            "_view_module": "@jupyter-widgets/base",
            "_model_module_version": "1.5.0",
            "_view_count": null,
            "_view_module_version": "1.2.0",
            "_model_module": "@jupyter-widgets/controls"
          }
        },
        "1a0b5385b05e4ae9a9616c2446ec6b82": {
          "model_module": "@jupyter-widgets/base",
          "model_name": "LayoutModel",
          "state": {
            "_view_name": "LayoutView",
            "grid_template_rows": null,
            "right": null,
            "justify_content": null,
            "_view_module": "@jupyter-widgets/base",
            "overflow": null,
            "_model_module_version": "1.2.0",
            "_view_count": null,
            "flex_flow": null,
            "width": null,
            "min_width": null,
            "border": null,
            "align_items": null,
            "bottom": null,
            "_model_module": "@jupyter-widgets/base",
            "top": null,
            "grid_column": null,
            "overflow_y": null,
            "overflow_x": null,
            "grid_auto_flow": null,
            "grid_area": null,
            "grid_template_columns": null,
            "flex": null,
            "_model_name": "LayoutModel",
            "justify_items": null,
            "grid_row": null,
            "max_height": null,
            "align_content": null,
            "visibility": null,
            "align_self": null,
            "height": null,
            "min_height": null,
            "padding": null,
            "grid_auto_rows": null,
            "grid_gap": null,
            "max_width": null,
            "order": null,
            "_view_module_version": "1.2.0",
            "grid_template_areas": null,
            "object_position": null,
            "object_fit": null,
            "grid_auto_columns": null,
            "margin": null,
            "display": null,
            "left": null
          }
        }
      }
    }
  },
  "cells": [
    {
      "cell_type": "markdown",
      "metadata": {
        "id": "view-in-github",
        "colab_type": "text"
      },
      "source": [
        "<a href=\"https://colab.research.google.com/github/martinpius/Computer-Vission/blob/main/introduction_to_tensorbord_callback.ipynb\" target=\"_parent\"><img src=\"https://colab.research.google.com/assets/colab-badge.svg\" alt=\"Open In Colab\"/></a>"
      ]
    },
    {
      "cell_type": "code",
      "metadata": {
        "colab": {
          "base_uri": "https://localhost:8080/"
        },
        "id": "ZvTYGprE1naJ",
        "outputId": "45b6d67c-5eea-4721-99de-a48bf4adab1e"
      },
      "source": [
        "from google.colab import drive\n",
        "drive.mount(\"/content/drive\", force_remount = True)\n",
        "try:\n",
        "  COLAB = True\n",
        "  import tensorflow as tf\n",
        "  print(f\"You are on CoLaB with tensorflow version: {tf.__version__}\")\n",
        "except Exception as e:\n",
        "  print(f\"{type(e)}: {e}\\n...please load your drive...\")\n",
        "  COLAB = False\n",
        "def time_fmt(t:float = 123.989)->float:\n",
        "  h = int(t / (60 * 60))\n",
        "  m = int(t % (60 * 60) / 60)\n",
        "  s = int(t % 60)\n",
        "  return f\"{h}: {m:>02}:{s:>05.2f}\"\n",
        "print(f\"...time testing....time testing...time testing...\\n>>>time elapse: {time_fmt()}\")"
      ],
      "execution_count": null,
      "outputs": [
        {
          "output_type": "stream",
          "text": [
            "Mounted at /content/drive\n",
            "You are on CoLaB with tensorflow version: 2.4.1\n",
            "...time testing....time testing...time testing...\n",
            ">>>time elapse: 0: 02:03.00\n"
          ],
          "name": "stdout"
        }
      ]
    },
    {
      "cell_type": "code",
      "metadata": {
        "id": "CXvFzP6Q6PCp"
      },
      "source": [
        "import tensorflow as tf\n",
        "import numpy as np\n",
        "import io, sys,time, os, datetime\n",
        "import matplotlib.pyplot as plt\n",
        "import tensorflow_datasets as tfds"
      ],
      "execution_count": null,
      "outputs": []
    },
    {
      "cell_type": "code",
      "metadata": {
        "colab": {
          "base_uri": "https://localhost:8080/",
          "height": 150,
          "referenced_widgets": [
            "ca2f5313211c4623af14836603d173ef",
            "19fe6de18efe49f6b0f1953e4e1e79ae",
            "601eea1ed3a043c6ac32cc7403737205",
            "fcc49e5113d74b468794092a1e8244e9",
            "703ec179f49d4370aa41bba98fcc69e0",
            "4a4b35e4c7a94b5aa0094d01f5758202",
            "075562957de44b9c81814f24cc8ee8b6",
            "8476455ad5b74cb889284abab14cea52",
            "52fa7afa7d3b462fa5bbfd7fe3a1da6b",
            "da4fa1ba01e24f87a443997ce1d22e1c",
            "e6e4f5e2260b4d9a918c167f78d34b15",
            "e3406187ab8f43b1a9309013a0a27cee",
            "ab754c1199e14f99a174963b069804fe",
            "83d66b66459648389ca0a32b0a8a113f",
            "fbd68f08220d455e94a90e00937b60ca",
            "8ff07dc9cece4ae2bab00175ed1e6a7e",
            "f16a7e35ec5541829bbebc44fa8bf110",
            "f5209fa9f85f41009dd359e7c14004c3",
            "7b817fea18a14957bdf37bad9cbe8d8d",
            "ba458a8a8d74436683009bf8ed47593b",
            "507fef68cd8e43a29fefa081a4002e6e",
            "cb107825eafe410ab55fd9cebc8be034",
            "9eed06304b814cc982a6523473c92d16",
            "1a0b5385b05e4ae9a9616c2446ec6b82",
            "ac650a2c99214ce3976e479c5a37fd06",
            "780898b27c8a4aafafa9d3d8e82e530a",
            "ded5d116bc9a4911b2fe11bbaa89c13d",
            "98be346798b24a10afc1d7a40a31b159",
            "16a189b9217644c88b27414e4122336f",
            "0f02e48d9763461a96e96c00956b33fa",
            "b1927737aec549f2a0a6f84f010e26b4",
            "551c94f2c0b14a499f36c365e0cd7aa1"
          ]
        },
        "id": "sZ8FfQGZ6tmX",
        "outputId": "b72f8958-65aa-4a35-8245-6b6e928067bd"
      },
      "source": [
        "(ds_train, ds_test), ds_info = tfds.load(\n",
        "    name = 'cifar10',\n",
        "    split = ['train', 'test'],\n",
        "    shuffle_files = True,\n",
        "    with_info = True,\n",
        "    as_supervised = True\n",
        ")\n",
        "display(ds_info)\n",
        "fig = tfds.show_examples(ds_train, ds_info, rows = 8, cols = 8)"
      ],
      "execution_count": null,
      "outputs": [
        {
          "output_type": "stream",
          "text": [
            "\u001b[1mDownloading and preparing dataset cifar10/3.0.2 (download: 162.17 MiB, generated: 132.40 MiB, total: 294.58 MiB) to /root/tensorflow_datasets/cifar10/3.0.2...\u001b[0m\n"
          ],
          "name": "stdout"
        },
        {
          "output_type": "display_data",
          "data": {
            "application/vnd.jupyter.widget-view+json": {
              "model_id": "ca2f5313211c4623af14836603d173ef",
              "version_minor": 0,
              "version_major": 2
            },
            "text/plain": [
              "HBox(children=(FloatProgress(value=1.0, bar_style='info', description='Dl Completed...', max=1.0, style=Progre…"
            ]
          },
          "metadata": {
            "tags": []
          }
        },
        {
          "output_type": "display_data",
          "data": {
            "application/vnd.jupyter.widget-view+json": {
              "model_id": "52fa7afa7d3b462fa5bbfd7fe3a1da6b",
              "version_minor": 0,
              "version_major": 2
            },
            "text/plain": [
              "HBox(children=(FloatProgress(value=1.0, bar_style='info', description='Dl Size...', max=1.0, style=ProgressSty…"
            ]
          },
          "metadata": {
            "tags": []
          }
        },
        {
          "output_type": "display_data",
          "data": {
            "application/vnd.jupyter.widget-view+json": {
              "model_id": "f16a7e35ec5541829bbebc44fa8bf110",
              "version_minor": 0,
              "version_major": 2
            },
            "text/plain": [
              "HBox(children=(FloatProgress(value=1.0, bar_style='info', description='Extraction completed...', max=1.0, styl…"
            ]
          },
          "metadata": {
            "tags": []
          }
        },
        {
          "output_type": "stream",
          "text": [
            "\n",
            "\n",
            "\n",
            "\n",
            "\n",
            "\n"
          ],
          "name": "stdout"
        },
        {
          "output_type": "display_data",
          "data": {
            "application/vnd.jupyter.widget-view+json": {
              "model_id": "ac650a2c99214ce3976e479c5a37fd06",
              "version_minor": 0,
              "version_major": 2
            },
            "text/plain": [
              "HBox(children=(FloatProgress(value=1.0, bar_style='info', max=1.0), HTML(value='')))"
            ]
          },
          "metadata": {
            "tags": []
          }
        }
      ]
    },
    {
      "cell_type": "code",
      "metadata": {
        "id": "FIYH7M058h2j"
      },
      "source": [
        "#pre-process the images:\n",
        "def normalize_imgs(image, label):\n",
        "  return (tf.cast(image, tf.float32)/255.0, label)"
      ],
      "execution_count": null,
      "outputs": []
    },
    {
      "cell_type": "code",
      "metadata": {
        "id": "bSjLw3-59G5z"
      },
      "source": [
        "def image_aug(image, label):\n",
        "  if tf.random.uniform((), minval = 0, maxval = 1)<0.1: #Turn 10% of the images into gray scale\n",
        "    image = tf.tile(tf.image.rgb_to_grayscale(images = image), [1,1,3])\n",
        "  image = tf.image.random_brightness(image, max_delta = 0.1)\n",
        "  image = tf.image.random_flip_up_down(image)\n",
        "  return image, label\n",
        "  "
      ],
      "execution_count": null,
      "outputs": []
    },
    {
      "cell_type": "code",
      "metadata": {
        "id": "J1rZsJW7-5bp"
      },
      "source": [
        "AUTOTUNE = tf.data.experimental.AUTOTUNE\n",
        "BATCH_SIZE = 64\n",
        "ds_train = ds_train.map(normalize_imgs, num_parallel_calls = AUTOTUNE)\n",
        "ds_train = ds_train.cache()\n",
        "ds_train = ds_train.shuffle(ds_info.splits['train'].num_examples)\n",
        "ds_train = ds_train.map(image_aug)\n",
        "ds_train = ds_train.batch(batch_size = BATCH_SIZE, drop_remainder = True)\n",
        "ds_train = ds_train.prefetch(AUTOTUNE)\n",
        "\n",
        "ds_test = ds_test.map(normalize_imgs, num_parallel_calls = AUTOTUNE)\n",
        "ds_test = ds_test.batch(batch_size = BATCH_SIZE, drop_remainder = True)\n",
        "ds_test = ds_test.prefetch(ds_info.splits['train'].num_examples)\n"
      ],
      "execution_count": null,
      "outputs": []
    },
    {
      "cell_type": "code",
      "metadata": {
        "id": "gDCib6wMBEAx"
      },
      "source": [
        "classes = [\"Airplane\",\"Autmobile\",\"Bird\",\"Cat\",\"Deer\", \"Dog\", \"Frog\",\"Horse\",\"Ship\",\"Truck\"]"
      ],
      "execution_count": null,
      "outputs": []
    },
    {
      "cell_type": "code",
      "metadata": {
        "id": "1f-zTTJLKAAT"
      },
      "source": [
        "def cnn():\n",
        "  inputs = tf.keras.Input(shape = (32,32,3))\n",
        "  x = tf.keras.layers.Conv2D(filters = 64,\n",
        "                             kernel_size = (3,3), \n",
        "                             activation = 'relu', \n",
        "                             padding = 'same', strides = (1,1),\n",
        "                             kernel_initializer = 'random_normal', name = 'conv_1')(inputs)\n",
        "  x = tf.keras.layers.Conv2D(filters = 128, kernel_size = (3,3),\n",
        "                             activation = 'relu',padding = 'same',\n",
        "                             strides = (1,1), name = 'conv_2',\n",
        "                             kernel_initializer = 'random_normal')(x)\n",
        "  x = tf.keras.layers.MaxPooling2D(pool_size = (2,2), name = 'max_pool1')(x)\n",
        "  x = tf.keras.layers.BatchNormalization(name = 'batch_norm_1')(x)\n",
        "  x = tf.keras.layers.Conv2D(filters = 512, kernel_size = (3,3), activation = 'relu',\n",
        "                             padding = 'same', strides = (1,1),\n",
        "                             kernel_initializer = 'random_normal',\n",
        "                             name = 'conv_3')(x)\n",
        "  x = tf.keras.layers.Conv2D(filters = 128, kernel_size = (3,3), activation = 'relu',\n",
        "                             padding = 'same', strides = (1,1), \n",
        "                             kernel_initializer = 'random_normal',\n",
        "                             name = 'conv_4')(x)\n",
        "  x = tf.keras.layers.MaxPooling2D(pool_size = (2,2), name = 'max_pool2')(x)\n",
        "  x = tf.keras.layers.BatchNormalization(name = 'batch_norm_2')(x)\n",
        "  x = tf.keras.layers.Conv2D(filters = 128, kernel_size = (3,3),\n",
        "                             activation = 'relu',padding = 'same',\n",
        "                             strides = (1,1),kernel_initializer = 'random_normal',\n",
        "                             name = 'conv_5')(x)\n",
        "  x = tf.keras.layers.Conv2D(filters = 64, kernel_size = (3,3), padding = 'same', \n",
        "                             activation = 'relu', name = 'conv_6', strides = (1,1),\n",
        "                             kernel_initializer = 'random_normal')(x)\n",
        "  x = tf.keras.layers.Flatten(name = 'flatten')(x)\n",
        "  x = tf.keras.layers.Dense(units = 128, activation = 'relu', name = 'dense1')(x)\n",
        "  x = tf.keras.layers.Dropout(rate = 0.25, name = 'dropout')(x)\n",
        "  x = tf.keras.layers.Dense(units = 64, activation = 'relu', name = 'dense2')(x)\n",
        "  outputs = tf.keras.layers.Dense(units = 10, activation = 'softmax', name = 'outputs')(x)\n",
        "  model = tf.keras.Model(inputs = inputs, outputs = outputs, name = 'cnn_simple')\n",
        "  return model\n",
        "\n",
        "                "
      ],
      "execution_count": null,
      "outputs": []
    },
    {
      "cell_type": "code",
      "metadata": {
        "id": "HLD2Y30EVAbn"
      },
      "source": [
        "model = cnn()"
      ],
      "execution_count": null,
      "outputs": []
    },
    {
      "cell_type": "code",
      "metadata": {
        "id": "hrpurA7HVHXx"
      },
      "source": [
        "model.summary()\n",
        "tf.keras.utils.plot_model(model = model, to_file = 'simple_cnn.png', show_shapes = True)"
      ],
      "execution_count": null,
      "outputs": []
    },
    {
      "cell_type": "code",
      "metadata": {
        "id": "aMdx3jAQV2Ob"
      },
      "source": [
        "model.compile(\n",
        "    loss = 'sparse_categorical_crossentropy',\n",
        "    optimizer = 'Adam',\n",
        "    metrics = ['sparse_categorical_accuracy']\n",
        ")"
      ],
      "execution_count": null,
      "outputs": []
    },
    {
      "cell_type": "code",
      "metadata": {
        "id": "zxsxA26lfb2D"
      },
      "source": [
        "logdir = os.path.join(\"logs\", datetime.datetime.now().strftime(\"%Y%m%d-%H%M%S\"))\n",
        "callback_tfb = tf.keras.callbacks.TensorBoard(logdir, histogram_freq=1)"
      ],
      "execution_count": null,
      "outputs": []
    },
    {
      "cell_type": "code",
      "metadata": {
        "id": "BuxlGyyGe_eH"
      },
      "source": [
        "%load_ext tensorboard\n",
        "%tensorboard --logdir logs"
      ],
      "execution_count": null,
      "outputs": []
    },
    {
      "cell_type": "code",
      "metadata": {
        "id": "7hwB_wxIXKLF"
      },
      "source": [
        "tic = time.time()\n",
        "model.fit(ds_train, validation_data = ds_test, epochs = 10, callbacks = [callbacks_tfb], verbose = 2)\n",
        "toc = time.time()\n",
        "print(f\"\\ntotal time for training and validation is: {time_fmt(toc - tic)}\")"
      ],
      "execution_count": null,
      "outputs": []
    },
    {
      "cell_type": "code",
      "metadata": {
        "id": "rnadM4_0pqGs"
      },
      "source": [
        ""
      ],
      "execution_count": null,
      "outputs": []
    },
    {
      "cell_type": "code",
      "metadata": {
        "id": "1nPZ-f8Mh0Ln"
      },
      "source": [
        "def cnn():\n",
        "  inputs = tf.keras.Input(shape = (32,32,3))\n",
        "  x = tf.keras.layers.Conv2D(filters = 64,\n",
        "                             kernel_size = (3,3), \n",
        "                             activation = 'relu', \n",
        "                             padding = 'same', strides = (1,1),\n",
        "                             kernel_initializer = 'random_normal', name = 'conv_1')(inputs)\n",
        "  x = tf.keras.layers.Conv2D(filters = 128, kernel_size = (3,3),\n",
        "                             activation = 'relu',padding = 'same',\n",
        "                             strides = (1,1), name = 'conv_2',\n",
        "                             kernel_initializer = 'random_normal')(x)\n",
        "  x = tf.keras.layers.MaxPooling2D(pool_size = (2,2), name = 'max_pool1')(x)\n",
        "  x = tf.keras.layers.BatchNormalization(name = 'batch_norm_1')(x)\n",
        "  x = tf.keras.layers.Conv2D(filters = 512, kernel_size = (3,3), activation = 'relu',\n",
        "                             padding = 'same', strides = (1,1),\n",
        "                             kernel_initializer = 'random_normal',\n",
        "                             name = 'conv_3')(x)\n",
        "  x = tf.keras.layers.Conv2D(filters = 128, kernel_size = (3,3), activation = 'relu',\n",
        "                             padding = 'same', strides = (1,1), \n",
        "                             kernel_initializer = 'random_normal',\n",
        "                             name = 'conv_4')(x)\n",
        "  x = tf.keras.layers.MaxPooling2D(pool_size = (2,2), name = 'max_pool2')(x)\n",
        "  x = tf.keras.layers.BatchNormalization(name = 'batch_norm_2')(x)\n",
        "  x = tf.keras.layers.Conv2D(filters = 128, kernel_size = (3,3),\n",
        "                             activation = 'relu',padding = 'same',\n",
        "                             strides = (1,1),kernel_initializer = 'random_normal',\n",
        "                             name = 'conv_5')(x)\n",
        "  x = tf.keras.layers.Conv2D(filters = 64, kernel_size = (3,3), padding = 'same', \n",
        "                             activation = 'relu', name = 'conv_6', strides = (1,1),\n",
        "                             kernel_initializer = 'random_normal')(x)\n",
        "  x = tf.keras.layers.Flatten(name = 'flatten')(x)\n",
        "  x = tf.keras.layers.Dense(units = 128, activation = 'relu', name = 'dense1')(x)\n",
        "  x = tf.keras.layers.Dropout(rate = 0.15, name = 'dropout')(x)\n",
        "  x = tf.keras.layers.Dense(units = 64, activation = 'relu', name = 'dense2')(x)\n",
        "  outputs = tf.keras.layers.Dense(units = 10, activation = 'softmax', name = 'outputs')(x)\n",
        "  model = tf.keras.Model(inputs = inputs, outputs = outputs, name = 'cnn_simple')\n",
        "  return model"
      ],
      "execution_count": null,
      "outputs": []
    },
    {
      "cell_type": "code",
      "metadata": {
        "id": "-k-wk2T8pz1T"
      },
      "source": [
        "loss_obj = tf.keras.losses.SparseCategoricalCrossentropy(from_logits = False)\n",
        "optimizer = tf.keras.optimizers.RMSprop(learning_rate = 0.001)\n",
        "train_metric = tf.keras.metrics.SparseCategoricalAccuracy()\n",
        "val_metric = tf.keras.metrics.SparseCategoricalAccuracy()\n",
        "train_writer = tf.summary.create_file_writer(\"/logs/train/\")\n",
        "test_writer = tf.summary.create_file_writer(\"/logs/test/\")"
      ],
      "execution_count": null,
      "outputs": []
    },
    {
      "cell_type": "code",
      "metadata": {
        "id": "1GaXZmw7rBUd",
        "colab": {
          "base_uri": "https://localhost:8080/"
        },
        "outputId": "d9651620-45e6-47dc-9a1d-b85fe8c63b67"
      },
      "source": [
        "train_step = test_step = 0\n",
        "epochs = 10\n",
        "for lr in [1e-1,1e-2,1e-3,1e-4,1e-5]:\n",
        "  train_writer = tf.summary.create_file_writer(\"/logs/train\" + str(lr))\n",
        "  test_writer = tf.summary.create_file_writer(\"/logs/test/\" + str(lr))\n",
        "  model = cnn()\n",
        "  optimizer = tf.keras.optimizers.RMSprop(learning_rate = lr)\n",
        "  for epoch in range(epochs):\n",
        "    print(f\"the start of epoch: {epoch}\\n>>>training\\tplease wait...\")\n",
        "    for (step, (x_train_batch, y_train_batch)) in enumerate(ds_train):\n",
        "      with tf.GradientTape() as tape:\n",
        "        preds = model(x_train_batch, training = True)\n",
        "        train_loss = loss_obj(y_train_batch, preds)\n",
        "      grads = tape.gradient(train_loss, model.trainable_weights)\n",
        "      optimizer.apply_gradients(zip(grads, model.trainable_weights))\n",
        "      train_metric.update_state(y_train_batch, preds)\n",
        "      train_acc = train_metric.result()\n",
        "      with train_writer.as_default():\n",
        "        tf.summary.scalar('Loss', train_loss, step = train_step)\n",
        "        tf.summary.scalar('Accuracy', train_acc, step = train_step)\n",
        "        train_step+=1\n",
        "      train_metric.reset_states()\n",
        "    for (step, (x_val_batch, y_val_batch)) in enumerate(ds_test):\n",
        "      preds = model(x_val_batch, training = False)\n",
        "      val_loss = loss_obj(y_val_batch, preds)\n",
        "      val_metric.update_state(y_val_batch, preds)\n",
        "      val_acc = val_metric.result()\n",
        "      with test_writer.as_default():\n",
        "        tf.summary.scalar('Loss', val_loss, step = test_step)\n",
        "        tf.summary.scalar('Accuracy', val_acc, step = test_step)\n",
        "        test_step+=1\n",
        "      val_metric.reset_states()\n",
        "\n",
        "\n"
      ],
      "execution_count": null,
      "outputs": [
        {
          "output_type": "stream",
          "text": [
            "the start of epoch: 0\n",
            ">>>training\tplease wait...\n",
            "the start of epoch: 1\n",
            ">>>training\tplease wait...\n",
            "the start of epoch: 2\n",
            ">>>training\tplease wait...\n",
            "the start of epoch: 3\n",
            ">>>training\tplease wait...\n",
            "the start of epoch: 4\n",
            ">>>training\tplease wait...\n",
            "the start of epoch: 5\n",
            ">>>training\tplease wait...\n",
            "the start of epoch: 6\n",
            ">>>training\tplease wait...\n",
            "the start of epoch: 7\n",
            ">>>training\tplease wait...\n",
            "the start of epoch: 8\n",
            ">>>training\tplease wait...\n",
            "the start of epoch: 9\n",
            ">>>training\tplease wait...\n",
            "the start of epoch: 0\n",
            ">>>training\tplease wait...\n",
            "the start of epoch: 1\n",
            ">>>training\tplease wait...\n",
            "the start of epoch: 2\n",
            ">>>training\tplease wait...\n",
            "the start of epoch: 3\n",
            ">>>training\tplease wait...\n",
            "the start of epoch: 4\n",
            ">>>training\tplease wait...\n",
            "the start of epoch: 5\n",
            ">>>training\tplease wait...\n",
            "the start of epoch: 6\n",
            ">>>training\tplease wait...\n",
            "the start of epoch: 7\n",
            ">>>training\tplease wait...\n",
            "the start of epoch: 8\n",
            ">>>training\tplease wait...\n",
            "the start of epoch: 9\n",
            ">>>training\tplease wait...\n",
            "the start of epoch: 0\n",
            ">>>training\tplease wait...\n",
            "the start of epoch: 1\n",
            ">>>training\tplease wait...\n",
            "the start of epoch: 2\n",
            ">>>training\tplease wait...\n",
            "the start of epoch: 3\n",
            ">>>training\tplease wait...\n",
            "the start of epoch: 4\n",
            ">>>training\tplease wait...\n",
            "the start of epoch: 5\n",
            ">>>training\tplease wait...\n",
            "the start of epoch: 6\n",
            ">>>training\tplease wait...\n",
            "the start of epoch: 7\n",
            ">>>training\tplease wait...\n",
            "the start of epoch: 8\n",
            ">>>training\tplease wait...\n",
            "the start of epoch: 9\n",
            ">>>training\tplease wait...\n",
            "the start of epoch: 0\n",
            ">>>training\tplease wait...\n",
            "the start of epoch: 1\n",
            ">>>training\tplease wait...\n",
            "the start of epoch: 2\n",
            ">>>training\tplease wait...\n",
            "the start of epoch: 3\n",
            ">>>training\tplease wait...\n",
            "the start of epoch: 4\n",
            ">>>training\tplease wait...\n",
            "the start of epoch: 5\n",
            ">>>training\tplease wait...\n",
            "the start of epoch: 6\n",
            ">>>training\tplease wait...\n",
            "the start of epoch: 7\n",
            ">>>training\tplease wait...\n",
            "the start of epoch: 8\n",
            ">>>training\tplease wait...\n",
            "the start of epoch: 9\n",
            ">>>training\tplease wait...\n",
            "the start of epoch: 0\n",
            ">>>training\tplease wait...\n",
            "the start of epoch: 1\n",
            ">>>training\tplease wait...\n",
            "the start of epoch: 2\n",
            ">>>training\tplease wait...\n",
            "the start of epoch: 3\n",
            ">>>training\tplease wait...\n",
            "the start of epoch: 4\n",
            ">>>training\tplease wait...\n",
            "the start of epoch: 5\n",
            ">>>training\tplease wait...\n",
            "the start of epoch: 6\n",
            ">>>training\tplease wait...\n",
            "the start of epoch: 7\n",
            ">>>training\tplease wait...\n",
            "the start of epoch: 8\n",
            ">>>training\tplease wait...\n",
            "the start of epoch: 9\n",
            ">>>training\tplease wait...\n"
          ],
          "name": "stdout"
        }
      ]
    },
    {
      "cell_type": "code",
      "metadata": {
        "id": "f7Div15TyIB7"
      },
      "source": [
        ""
      ],
      "execution_count": null,
      "outputs": []
    }
  ]
}